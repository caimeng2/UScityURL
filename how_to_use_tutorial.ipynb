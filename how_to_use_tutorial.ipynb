{
 "cells": [
  {
   "cell_type": "markdown",
   "metadata": {},
   "source": [
    "# <center>How to search keywords on municipal websites</center>"
   ]
  },
  {
   "cell_type": "markdown",
   "metadata": {},
   "source": [
    "This tutorial demonstrates how to systematically search self-defined keywords on municipal websites using the dataset UScityURL.csv and [Google Custom Search API](https://developers.google.com/custom-search/v1/introduction), and save the search results as a csv file. Google offers 100 queries per day for free. Daily quotas reset at midnight Pacific Time. Additional queries cost $5 per 1000 queries. Details about Google API pricing could be find [here](https://developers.google.com/custom-search/v1/overview)."
   ]
  },
  {
   "cell_type": "markdown",
   "metadata": {},
   "source": [
    "First, please set up a Google API key and case ID following the [instructions](https://support.google.com/googleapi/answer/6158862?hl=en). And then, save the API key in a txt file named `api_key.txt` with only the key itself as the content. Similarly, save the case ID in a txt file and name it `case_id.txt`. These are unique identifiers that are used to authenticate and authorize access to the Google Search API. It is important to remember that they should never be shared with others.\n",
    "\n",
    "Next, we need to install the Google API client library. The documentation is available [here](https://pypi.org/project/google-api-python-client/). After successful install, import all the libraries."
   ]
  },
  {
   "cell_type": "code",
   "execution_count": 1,
   "metadata": {
    "ExecuteTime": {
     "end_time": "2023-02-23T11:44:03.724470Z",
     "start_time": "2023-02-23T11:44:03.722819Z"
    }
   },
   "outputs": [],
   "source": [
    "## remove the # in the next line to install the Google API client library\n",
    "#!pip install google-api-python-client"
   ]
  },
  {
   "cell_type": "code",
   "execution_count": 2,
   "metadata": {
    "ExecuteTime": {
     "end_time": "2023-02-23T11:44:04.287543Z",
     "start_time": "2023-02-23T11:44:03.726143Z"
    }
   },
   "outputs": [],
   "source": [
    "# import libraries\n",
    "import pandas as pd\n",
    "from googleapiclient.discovery import build\n",
    "import csv\n",
    "import math\n",
    "import time"
   ]
  },
  {
   "cell_type": "code",
   "execution_count": 3,
   "metadata": {
    "ExecuteTime": {
     "end_time": "2023-02-23T11:44:04.291030Z",
     "start_time": "2023-02-23T11:44:04.288769Z"
    }
   },
   "outputs": [],
   "source": [
    "# read in your API key and case ID\n",
    "api_key = open('api_key.txt', 'r').read().strip()\n",
    "case_id = open('case_id.txt', 'r').read().strip()"
   ]
  },
  {
   "cell_type": "markdown",
   "metadata": {},
   "source": [
    "After the above preparations, we are ready for the search."
   ]
  },
  {
   "cell_type": "code",
   "execution_count": 4,
   "metadata": {
    "ExecuteTime": {
     "end_time": "2023-02-23T11:44:04.328283Z",
     "start_time": "2023-02-23T11:44:04.292035Z"
    }
   },
   "outputs": [
    {
     "data": {
      "text/html": [
       "<div>\n",
       "<style scoped>\n",
       "    .dataframe tbody tr th:only-of-type {\n",
       "        vertical-align: middle;\n",
       "    }\n",
       "\n",
       "    .dataframe tbody tr th {\n",
       "        vertical-align: top;\n",
       "    }\n",
       "\n",
       "    .dataframe thead th {\n",
       "        text-align: right;\n",
       "    }\n",
       "</style>\n",
       "<table border=\"1\" class=\"dataframe\">\n",
       "  <thead>\n",
       "    <tr style=\"text-align: right;\">\n",
       "      <th></th>\n",
       "      <th>GISJOIN</th>\n",
       "      <th>CITY</th>\n",
       "      <th>STATE</th>\n",
       "      <th>WEBSITE_AVAILABLE</th>\n",
       "      <th>WEBSITE_URL</th>\n",
       "    </tr>\n",
       "  </thead>\n",
       "  <tbody>\n",
       "    <tr>\n",
       "      <th>0</th>\n",
       "      <td>G36051000</td>\n",
       "      <td>New York</td>\n",
       "      <td>New York</td>\n",
       "      <td>1</td>\n",
       "      <td>https://www.nyc.gov/</td>\n",
       "    </tr>\n",
       "    <tr>\n",
       "      <th>1</th>\n",
       "      <td>G06044000</td>\n",
       "      <td>Los Angeles</td>\n",
       "      <td>California</td>\n",
       "      <td>1</td>\n",
       "      <td>https://www.lacity.org/</td>\n",
       "    </tr>\n",
       "    <tr>\n",
       "      <th>2</th>\n",
       "      <td>G17014000</td>\n",
       "      <td>Chicago</td>\n",
       "      <td>Illinois</td>\n",
       "      <td>1</td>\n",
       "      <td>https://www.chicago.gov/</td>\n",
       "    </tr>\n",
       "    <tr>\n",
       "      <th>3</th>\n",
       "      <td>G48035000</td>\n",
       "      <td>Houston</td>\n",
       "      <td>Texas</td>\n",
       "      <td>1</td>\n",
       "      <td>http://www.houstontx.gov/</td>\n",
       "    </tr>\n",
       "    <tr>\n",
       "      <th>4</th>\n",
       "      <td>G04055000</td>\n",
       "      <td>Phoenix</td>\n",
       "      <td>Arizona</td>\n",
       "      <td>1</td>\n",
       "      <td>https://www.phoenix.gov/</td>\n",
       "    </tr>\n",
       "  </tbody>\n",
       "</table>\n",
       "</div>"
      ],
      "text/plain": [
       "     GISJOIN         CITY       STATE  WEBSITE_AVAILABLE  \\\n",
       "0  G36051000     New York    New York                  1   \n",
       "1  G06044000  Los Angeles  California                  1   \n",
       "2  G17014000      Chicago    Illinois                  1   \n",
       "3  G48035000      Houston       Texas                  1   \n",
       "4  G04055000      Phoenix     Arizona                  1   \n",
       "\n",
       "                 WEBSITE_URL  \n",
       "0       https://www.nyc.gov/  \n",
       "1    https://www.lacity.org/  \n",
       "2   https://www.chicago.gov/  \n",
       "3  http://www.houstontx.gov/  \n",
       "4   https://www.phoenix.gov/  "
      ]
     },
     "execution_count": 4,
     "metadata": {},
     "output_type": "execute_result"
    }
   ],
   "source": [
    "# load in the dataset and check it out\n",
    "UScityURL = pd.read_csv(\"UScityURL.csv\")\n",
    "UScityURL.head()"
   ]
  },
  {
   "attachments": {},
   "cell_type": "markdown",
   "metadata": {},
   "source": [
    "A code book for the dataset is available in the same repo. As of the time when the dataset is compiled (September 2022), 13724 out of 19518 municipalities (70%) have an official website. All the municipalities without official websites have populations below 6000."
   ]
  },
  {
   "cell_type": "code",
   "execution_count": 5,
   "metadata": {
    "ExecuteTime": {
     "end_time": "2023-02-23T11:44:04.338521Z",
     "start_time": "2023-02-23T11:44:04.329165Z"
    }
   },
   "outputs": [
    {
     "name": "stdout",
     "output_type": "stream",
     "text": [
      "<class 'pandas.core.frame.DataFrame'>\n",
      "RangeIndex: 19518 entries, 0 to 19517\n",
      "Data columns (total 5 columns):\n",
      " #   Column             Non-Null Count  Dtype \n",
      "---  ------             --------------  ----- \n",
      " 0   GISJOIN            19518 non-null  object\n",
      " 1   CITY               19518 non-null  object\n",
      " 2   STATE              19518 non-null  object\n",
      " 3   WEBSITE_AVAILABLE  19518 non-null  int64 \n",
      " 4   WEBSITE_URL        13724 non-null  object\n",
      "dtypes: int64(1), object(4)\n",
      "memory usage: 762.5+ KB\n"
     ]
    }
   ],
   "source": [
    "UScityURL.info()"
   ]
  },
  {
   "cell_type": "code",
   "execution_count": 6,
   "metadata": {
    "ExecuteTime": {
     "end_time": "2023-02-23T11:44:05.046696Z",
     "start_time": "2023-02-23T11:44:04.339861Z"
    }
   },
   "outputs": [],
   "source": [
    "# filter out cities without websites\n",
    "source = UScityURL[UScityURL.WEBSITE_AVAILABLE==1].reset_index(drop=True)"
   ]
  },
  {
   "cell_type": "code",
   "execution_count": 7,
   "metadata": {
    "ExecuteTime": {
     "end_time": "2023-02-23T11:44:05.055688Z",
     "start_time": "2023-02-23T11:44:05.048867Z"
    }
   },
   "outputs": [],
   "source": [
    "# a ready-to-use function for conducting systematic searches\n",
    "def search(search_term, api_key, case_id):\n",
    "    \"\"\"\n",
    "    Use Google Custom Search API to systematically search self-defined keywords.\n",
    "    \n",
    "    Arguments:\n",
    "        search_term: search string. The maximum length is 2048 characters.\n",
    "        api_key: your api key.\n",
    "        case_id: your case id.\n",
    "    Returns:\n",
    "        len(link_list): the number of search results returned.\n",
    "        title_list: the titles of returned search results in a list.\n",
    "        link_list: the links of returned search results in a list.\n",
    "        snippet_list: the snippets of returned search results in a list.\n",
    "    \"\"\"\n",
    "    \n",
    "    service = build(\"customsearch\", \"v1\", developerKey=api_key)\n",
    "    result = service.cse().list(q=search_term, cx=case_id).execute()\n",
    "    est_total_num = int(result[\"searchInformation\"][\"totalResults\"])\n",
    "    title_list = []\n",
    "    link_list = []\n",
    "    snippet_list = []\n",
    "    if est_total_num == 0:\n",
    "        return len(link_list), title_list, link_list, snippet_list\n",
    "    elif est_total_num <= 10:\n",
    "        for item in result[\"items\"]:\n",
    "            title_list.append(item[\"title\"])\n",
    "            link_list.append(item[\"link\"])\n",
    "            snippet_list.append(item['snippet'])\n",
    "        return len(link_list), title_list, link_list, snippet_list\n",
    "    else:\n",
    "        for item in result[\"items\"]:\n",
    "            title_list.append(item[\"title\"])\n",
    "            link_list.append(item[\"link\"])\n",
    "            snippet_list.append(item['snippet'])\n",
    "        total_page = math.ceil(est_total_num/10)\n",
    "        if total_page > 10:\n",
    "            total_page = 10\n",
    "        for page in range(1, total_page):\n",
    "            start = page * 10 + 1\n",
    "            more_result = service.cse().list(q=search_term, cx=case_id, start=start).execute()\n",
    "            new_total_num = int(more_result[\"searchInformation\"][\"totalResults\"])\n",
    "            if new_total_num == 0:\n",
    "                return len(link_list), title_list, link_list, snippet_list\n",
    "            else:\n",
    "                for item in more_result[\"items\"]:\n",
    "                    title_list.append(item[\"title\"])\n",
    "                    link_list.append(item[\"link\"])\n",
    "                    snippet_list.append(item['snippet'])\n",
    "        return len(link_list), title_list, link_list, snippet_list"
   ]
  },
  {
   "cell_type": "code",
   "execution_count": 8,
   "metadata": {
    "ExecuteTime": {
     "end_time": "2023-02-23T11:44:05.058894Z",
     "start_time": "2023-02-23T11:44:05.057429Z"
    }
   },
   "outputs": [],
   "source": [
    "# define your search keyword\n",
    "keyword = \"inequity\""
   ]
  },
  {
   "cell_type": "code",
   "execution_count": 9,
   "metadata": {
    "ExecuteTime": {
     "end_time": "2023-02-23T11:44:05.061624Z",
     "start_time": "2023-02-23T11:44:05.060113Z"
    }
   },
   "outputs": [],
   "source": [
    "# give your output file a name\n",
    "output_file = \"output_example.csv\""
   ]
  },
  {
   "cell_type": "code",
   "execution_count": 10,
   "metadata": {
    "ExecuteTime": {
     "end_time": "2023-02-23T11:44:40.465322Z",
     "start_time": "2023-02-23T11:44:05.062634Z"
    },
    "scrolled": true
   },
   "outputs": [],
   "source": [
    "# conduct the search and write into a csv file\n",
    "for i in range(0, 10):\n",
    "    search_term = keyword + ' site:' + source.WEBSITE_URL.iloc[i]\n",
    "    total, title, link, snippet = search(search_term, api_key, case_id)\n",
    "    csv.writer(open(output_file, \"a\")).writerow([source.GISJOIN.iloc[i], total, title, link, snippet])\n",
    "    time.sleep(1) # to avoid too many requests error"
   ]
  },
  {
   "cell_type": "code",
   "execution_count": 11,
   "metadata": {
    "ExecuteTime": {
     "end_time": "2023-02-23T11:44:40.486949Z",
     "start_time": "2023-02-23T11:44:40.470108Z"
    },
    "scrolled": true
   },
   "outputs": [],
   "source": [
    "# check the output file\n",
    "output = pd.read_csv(output_file, names=[\"GISJOIN\",\"total\",\"title\",\"link\",\"snippet\"])"
   ]
  },
  {
   "cell_type": "code",
   "execution_count": 12,
   "metadata": {
    "ExecuteTime": {
     "end_time": "2023-02-23T11:44:40.496635Z",
     "start_time": "2023-02-23T11:44:40.488524Z"
    }
   },
   "outputs": [
    {
     "data": {
      "text/html": [
       "<div>\n",
       "<style scoped>\n",
       "    .dataframe tbody tr th:only-of-type {\n",
       "        vertical-align: middle;\n",
       "    }\n",
       "\n",
       "    .dataframe tbody tr th {\n",
       "        vertical-align: top;\n",
       "    }\n",
       "\n",
       "    .dataframe thead th {\n",
       "        text-align: right;\n",
       "    }\n",
       "</style>\n",
       "<table border=\"1\" class=\"dataframe\">\n",
       "  <thead>\n",
       "    <tr style=\"text-align: right;\">\n",
       "      <th></th>\n",
       "      <th>GISJOIN</th>\n",
       "      <th>total</th>\n",
       "      <th>title</th>\n",
       "      <th>link</th>\n",
       "      <th>snippet</th>\n",
       "    </tr>\n",
       "  </thead>\n",
       "  <tbody>\n",
       "    <tr>\n",
       "      <th>0</th>\n",
       "      <td>G36051000</td>\n",
       "      <td>100</td>\n",
       "      <td>['Racial Inequities in COVID-19 Hospitalizatio...</td>\n",
       "      <td>['https://www.nyc.gov/assets/doh/downloads/pdf...</td>\n",
       "      <td>['Mar 2, 2022 ... Anti-Black structural racism...</td>\n",
       "    </tr>\n",
       "    <tr>\n",
       "      <th>1</th>\n",
       "      <td>G06044000</td>\n",
       "      <td>2</td>\n",
       "      <td>['L.A. Controller Releases Report, \"Diversity ...</td>\n",
       "      <td>['https://www.lacity.org/highlights/la-control...</td>\n",
       "      <td>['Feb 5, 2021 ... L.A. Controller Ron Galperin...</td>\n",
       "    </tr>\n",
       "    <tr>\n",
       "      <th>2</th>\n",
       "      <td>G17014000</td>\n",
       "      <td>100</td>\n",
       "      <td>['Exploring Root Causes of Health Inequities i...</td>\n",
       "      <td>['https://www.chicago.gov/content/dam/city/dep...</td>\n",
       "      <td>['Jun 19, 2019 ... What underlying social and ...</td>\n",
       "    </tr>\n",
       "    <tr>\n",
       "      <th>3</th>\n",
       "      <td>G48035000</td>\n",
       "      <td>72</td>\n",
       "      <td>['Health Disparities Summary 2019', 'Community...</td>\n",
       "      <td>['https://www.houstontx.gov/health/chs/documen...</td>\n",
       "      <td>['To the Residents of Houston/Harris County: T...</td>\n",
       "    </tr>\n",
       "    <tr>\n",
       "      <th>4</th>\n",
       "      <td>G04055000</td>\n",
       "      <td>34</td>\n",
       "      <td>['Heat Equity Policy: Inequities in Extreme He...</td>\n",
       "      <td>['https://www.phoenix.gov/oepsite/Documents/De...</td>\n",
       "      <td>['Oct 19, 2021 ... Heat Equity Policy: Inequit...</td>\n",
       "    </tr>\n",
       "    <tr>\n",
       "      <th>5</th>\n",
       "      <td>G42060000</td>\n",
       "      <td>100</td>\n",
       "      <td>['Philadelphia Awarded $500,000 MacArthur Gran...</td>\n",
       "      <td>['https://www.phila.gov/2022-01-19-philadelphi...</td>\n",
       "      <td>[\"Jan 19, 2022 ... MacArthur Foundation to fur...</td>\n",
       "    </tr>\n",
       "    <tr>\n",
       "      <th>6</th>\n",
       "      <td>G48065000</td>\n",
       "      <td>52</td>\n",
       "      <td>['Racial Equity Indicator Report', 'SAN ANTONI...</td>\n",
       "      <td>['https://www.sanantonio.gov/Portals/0/Files/E...</td>\n",
       "      <td>['Inequities are also stark among racial/ethni...</td>\n",
       "    </tr>\n",
       "    <tr>\n",
       "      <th>7</th>\n",
       "      <td>G06066000</td>\n",
       "      <td>81</td>\n",
       "      <td>['Race and Equity', 'Office of Race &amp; Equity',...</td>\n",
       "      <td>['https://www.sandiego.gov/sites/default/files...</td>\n",
       "      <td>['outcomes; dismantling policies, procedures a...</td>\n",
       "    </tr>\n",
       "    <tr>\n",
       "      <th>8</th>\n",
       "      <td>G48019000</td>\n",
       "      <td>66</td>\n",
       "      <td>['Dallas Equity Indicators Methodology', 'Equi...</td>\n",
       "      <td>['https://dallascityhall.com/departments/pnv/d...</td>\n",
       "      <td>['Populations Impacted by Inequity. The Dallas...</td>\n",
       "    </tr>\n",
       "    <tr>\n",
       "      <th>9</th>\n",
       "      <td>G06068000</td>\n",
       "      <td>48</td>\n",
       "      <td>['Office of Racial Equity | City of San Jose',...</td>\n",
       "      <td>['https://www.sanjoseca.gov/your-government/de...</td>\n",
       "      <td>['The City of San Jose acknowledges that these...</td>\n",
       "    </tr>\n",
       "  </tbody>\n",
       "</table>\n",
       "</div>"
      ],
      "text/plain": [
       "     GISJOIN  total                                              title  \\\n",
       "0  G36051000    100  ['Racial Inequities in COVID-19 Hospitalizatio...   \n",
       "1  G06044000      2  ['L.A. Controller Releases Report, \"Diversity ...   \n",
       "2  G17014000    100  ['Exploring Root Causes of Health Inequities i...   \n",
       "3  G48035000     72  ['Health Disparities Summary 2019', 'Community...   \n",
       "4  G04055000     34  ['Heat Equity Policy: Inequities in Extreme He...   \n",
       "5  G42060000    100  ['Philadelphia Awarded $500,000 MacArthur Gran...   \n",
       "6  G48065000     52  ['Racial Equity Indicator Report', 'SAN ANTONI...   \n",
       "7  G06066000     81  ['Race and Equity', 'Office of Race & Equity',...   \n",
       "8  G48019000     66  ['Dallas Equity Indicators Methodology', 'Equi...   \n",
       "9  G06068000     48  ['Office of Racial Equity | City of San Jose',...   \n",
       "\n",
       "                                                link  \\\n",
       "0  ['https://www.nyc.gov/assets/doh/downloads/pdf...   \n",
       "1  ['https://www.lacity.org/highlights/la-control...   \n",
       "2  ['https://www.chicago.gov/content/dam/city/dep...   \n",
       "3  ['https://www.houstontx.gov/health/chs/documen...   \n",
       "4  ['https://www.phoenix.gov/oepsite/Documents/De...   \n",
       "5  ['https://www.phila.gov/2022-01-19-philadelphi...   \n",
       "6  ['https://www.sanantonio.gov/Portals/0/Files/E...   \n",
       "7  ['https://www.sandiego.gov/sites/default/files...   \n",
       "8  ['https://dallascityhall.com/departments/pnv/d...   \n",
       "9  ['https://www.sanjoseca.gov/your-government/de...   \n",
       "\n",
       "                                             snippet  \n",
       "0  ['Mar 2, 2022 ... Anti-Black structural racism...  \n",
       "1  ['Feb 5, 2021 ... L.A. Controller Ron Galperin...  \n",
       "2  ['Jun 19, 2019 ... What underlying social and ...  \n",
       "3  ['To the Residents of Houston/Harris County: T...  \n",
       "4  ['Oct 19, 2021 ... Heat Equity Policy: Inequit...  \n",
       "5  [\"Jan 19, 2022 ... MacArthur Foundation to fur...  \n",
       "6  ['Inequities are also stark among racial/ethni...  \n",
       "7  ['outcomes; dismantling policies, procedures a...  \n",
       "8  ['Populations Impacted by Inequity. The Dallas...  \n",
       "9  ['The City of San Jose acknowledges that these...  "
      ]
     },
     "execution_count": 12,
     "metadata": {},
     "output_type": "execute_result"
    }
   ],
   "source": [
    "output"
   ]
  },
  {
   "attachments": {},
   "cell_type": "markdown",
   "metadata": {},
   "source": [
    "The returned search results pinpoints where a certain topic are discussed. Combined with text-mining and natural language processing methods, they are suitable for further analysis in urban planning, public policy, community engagement, city development, etc."
   ]
  },
  {
   "cell_type": "code",
   "execution_count": null,
   "metadata": {},
   "outputs": [],
   "source": []
  }
 ],
 "metadata": {
  "kernelspec": {
   "display_name": "Python 3",
   "language": "python",
   "name": "python3"
  },
  "language_info": {
   "codemirror_mode": {
    "name": "ipython",
    "version": 3
   },
   "file_extension": ".py",
   "mimetype": "text/x-python",
   "name": "python",
   "nbconvert_exporter": "python",
   "pygments_lexer": "ipython3",
   "version": "3.8.3"
  },
  "toc": {
   "base_numbering": 1,
   "nav_menu": {},
   "number_sections": false,
   "sideBar": true,
   "skip_h1_title": false,
   "title_cell": "Table of Contents",
   "title_sidebar": "Contents",
   "toc_cell": false,
   "toc_position": {},
   "toc_section_display": true,
   "toc_window_display": false
  },
  "varInspector": {
   "cols": {
    "lenName": 16,
    "lenType": 16,
    "lenVar": 40
   },
   "kernels_config": {
    "python": {
     "delete_cmd_postfix": "",
     "delete_cmd_prefix": "del ",
     "library": "var_list.py",
     "varRefreshCmd": "print(var_dic_list())"
    },
    "r": {
     "delete_cmd_postfix": ") ",
     "delete_cmd_prefix": "rm(",
     "library": "var_list.r",
     "varRefreshCmd": "cat(var_dic_list()) "
    }
   },
   "types_to_exclude": [
    "module",
    "function",
    "builtin_function_or_method",
    "instance",
    "_Feature"
   ],
   "window_display": false
  }
 },
 "nbformat": 4,
 "nbformat_minor": 4
}
