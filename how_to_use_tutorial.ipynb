{
 "cells": [
  {
   "cell_type": "markdown",
   "metadata": {},
   "source": [
    "# <center>How to systematically search keywords on municipal websites</center>"
   ]
  },
  {
   "cell_type": "markdown",
   "metadata": {},
   "source": [
    "**Cite as**: Cai, M., Huang, H., & Decaminada, T. (2023). Local data at a national scale: Introducing a dataset of official municipal websites in the United States for text-based analytics. Environment and Planning B: Urban Analytics and City Science, 50(7), 1988-1993. https://doi.org/10.1177/23998083231190961"
   ]
  },
  {
   "cell_type": "markdown",
   "metadata": {},
   "source": [
    "This tutorial demonstrates how to systematically search self-defined keywords on municipal websites using the dataset UScityURL.csv and [Google Custom Search API](https://developers.google.com/custom-search/v1/introduction), and save the search results as a csv file. Google offers 100 queries per day for free. Daily quotas reset at midnight Pacific Time. Additional queries cost $5 per 1000 queries. Details about Google API pricing could be find [here](https://developers.google.com/custom-search/v1/overview)."
   ]
  },
  {
   "cell_type": "markdown",
   "metadata": {},
   "source": [
    "First, please set up a Google API key and case ID following the [instructions](https://support.google.com/googleapi/answer/6158862?hl=en). And then, in the same folder where you run code, save the API key in a txt file and name it `api_key.txt`. The txt file should only have the key as its content. Similarly, save the case ID in a txt file and name it `case_id.txt`. These are unique identifiers to authenticate and authorize access to the Google Search API. It is important to remember that they should never be shared with others.\n",
    "\n",
    "Next, the Google API client library needs to be installed. The documentation is available [here](https://pypi.org/project/google-api-python-client/). After successful install, import all the libraries."
   ]
  },
  {
   "cell_type": "code",
   "execution_count": 1,
   "metadata": {
    "ExecuteTime": {
     "end_time": "2023-05-30T14:11:02.903592Z",
     "start_time": "2023-05-30T14:11:02.901643Z"
    }
   },
   "outputs": [],
   "source": [
    "## remove the # in the next line to install the Google API client library\n",
    "#!pip install google-api-python-client"
   ]
  },
  {
   "cell_type": "code",
   "execution_count": 4,
   "metadata": {
    "ExecuteTime": {
     "end_time": "2023-11-29T20:12:14.161424Z",
     "start_time": "2023-11-29T20:12:14.151131Z"
    }
   },
   "outputs": [],
   "source": [
    "# import libraries\n",
    "import pandas as pd\n",
    "from googleapiclient.discovery import build\n",
    "import csv\n",
    "import math\n",
    "import time"
   ]
  },
  {
   "cell_type": "code",
   "execution_count": 5,
   "metadata": {
    "ExecuteTime": {
     "end_time": "2023-11-29T20:12:18.725690Z",
     "start_time": "2023-11-29T20:12:18.719596Z"
    }
   },
   "outputs": [],
   "source": [
    "# read in your API key and case ID\n",
    "api_key = open('api_key.txt', 'r').read().strip()\n",
    "case_id = open('case_id.txt', 'r').read().strip()"
   ]
  },
  {
   "cell_type": "markdown",
   "metadata": {},
   "source": [
    "After the above preparations, we are ready for the search."
   ]
  },
  {
   "cell_type": "code",
   "execution_count": 6,
   "metadata": {
    "ExecuteTime": {
     "end_time": "2023-11-29T20:12:21.651926Z",
     "start_time": "2023-11-29T20:12:21.610276Z"
    }
   },
   "outputs": [
    {
     "data": {
      "text/html": [
       "<div>\n",
       "<style scoped>\n",
       "    .dataframe tbody tr th:only-of-type {\n",
       "        vertical-align: middle;\n",
       "    }\n",
       "\n",
       "    .dataframe tbody tr th {\n",
       "        vertical-align: top;\n",
       "    }\n",
       "\n",
       "    .dataframe thead th {\n",
       "        text-align: right;\n",
       "    }\n",
       "</style>\n",
       "<table border=\"1\" class=\"dataframe\">\n",
       "  <thead>\n",
       "    <tr style=\"text-align: right;\">\n",
       "      <th></th>\n",
       "      <th>GEOID</th>\n",
       "      <th>MUNICIPALITY</th>\n",
       "      <th>STATE</th>\n",
       "      <th>WEBSITE_AVAILABLE</th>\n",
       "      <th>WEBSITE_URL</th>\n",
       "    </tr>\n",
       "  </thead>\n",
       "  <tbody>\n",
       "    <tr>\n",
       "      <th>0</th>\n",
       "      <td>1600000US3651000</td>\n",
       "      <td>New York</td>\n",
       "      <td>New York</td>\n",
       "      <td>1</td>\n",
       "      <td>https://www.nyc.gov/</td>\n",
       "    </tr>\n",
       "    <tr>\n",
       "      <th>1</th>\n",
       "      <td>1600000US0644000</td>\n",
       "      <td>Los Angeles</td>\n",
       "      <td>California</td>\n",
       "      <td>1</td>\n",
       "      <td>https://www.lacity.org/</td>\n",
       "    </tr>\n",
       "    <tr>\n",
       "      <th>2</th>\n",
       "      <td>1600000US1714000</td>\n",
       "      <td>Chicago</td>\n",
       "      <td>Illinois</td>\n",
       "      <td>1</td>\n",
       "      <td>https://www.chicago.gov/</td>\n",
       "    </tr>\n",
       "    <tr>\n",
       "      <th>3</th>\n",
       "      <td>1600000US4835000</td>\n",
       "      <td>Houston</td>\n",
       "      <td>Texas</td>\n",
       "      <td>1</td>\n",
       "      <td>http://www.houstontx.gov/</td>\n",
       "    </tr>\n",
       "    <tr>\n",
       "      <th>4</th>\n",
       "      <td>1600000US0455000</td>\n",
       "      <td>Phoenix</td>\n",
       "      <td>Arizona</td>\n",
       "      <td>1</td>\n",
       "      <td>https://www.phoenix.gov/</td>\n",
       "    </tr>\n",
       "  </tbody>\n",
       "</table>\n",
       "</div>"
      ],
      "text/plain": [
       "              GEOID MUNICIPALITY       STATE  WEBSITE_AVAILABLE  \\\n",
       "0  1600000US3651000     New York    New York                  1   \n",
       "1  1600000US0644000  Los Angeles  California                  1   \n",
       "2  1600000US1714000      Chicago    Illinois                  1   \n",
       "3  1600000US4835000      Houston       Texas                  1   \n",
       "4  1600000US0455000      Phoenix     Arizona                  1   \n",
       "\n",
       "                 WEBSITE_URL  \n",
       "0       https://www.nyc.gov/  \n",
       "1    https://www.lacity.org/  \n",
       "2   https://www.chicago.gov/  \n",
       "3  http://www.houstontx.gov/  \n",
       "4   https://www.phoenix.gov/  "
      ]
     },
     "execution_count": 6,
     "metadata": {},
     "output_type": "execute_result"
    }
   ],
   "source": [
    "# load in the dataset and check it out\n",
    "UScityURL = pd.read_csv(\"UScityURL.csv\") # make sure data and notebook in the same folder otherwise change path\n",
    "UScityURL.head()"
   ]
  },
  {
   "cell_type": "markdown",
   "metadata": {},
   "source": [
    "A code book `codebook.txt` for the dataset is available in the repo. \n",
    "\n",
    "As of the time when the dataset is compiled (September 2022), 13,724 out of 19,518 municipalities (70%) have an official website. All the municipalities without official websites have populations below 6,000."
   ]
  },
  {
   "cell_type": "code",
   "execution_count": 4,
   "metadata": {
    "ExecuteTime": {
     "end_time": "2023-11-27T21:23:30.934763Z",
     "start_time": "2023-11-27T21:23:30.902147Z"
    }
   },
   "outputs": [
    {
     "name": "stdout",
     "output_type": "stream",
     "text": [
      "<class 'pandas.core.frame.DataFrame'>\n",
      "RangeIndex: 19518 entries, 0 to 19517\n",
      "Data columns (total 5 columns):\n",
      " #   Column             Non-Null Count  Dtype \n",
      "---  ------             --------------  ----- \n",
      " 0   GEOID              19518 non-null  object\n",
      " 1   MUNICIPALITY       19518 non-null  object\n",
      " 2   STATE              19518 non-null  object\n",
      " 3   WEBSITE_AVAILABLE  19518 non-null  int64 \n",
      " 4   WEBSITE_URL        13724 non-null  object\n",
      "dtypes: int64(1), object(4)\n",
      "memory usage: 762.5+ KB\n"
     ]
    }
   ],
   "source": [
    "UScityURL.info()"
   ]
  },
  {
   "cell_type": "code",
   "execution_count": 7,
   "metadata": {
    "ExecuteTime": {
     "end_time": "2023-11-29T20:12:26.568098Z",
     "start_time": "2023-11-29T20:12:26.541770Z"
    }
   },
   "outputs": [],
   "source": [
    "# a ready-to-use function for conducting systematic searches\n",
    "def search(search_term, api_key, case_id):\n",
    "    \"\"\"\n",
    "    Use Google Custom Search API to systematically search self-defined keywords.\n",
    "    \n",
    "    Arguments:\n",
    "        search_term: search string. The maximum length is 2048 characters.\n",
    "        api_key: your api key.\n",
    "        case_id: your case id.\n",
    "    Returns:\n",
    "        len(link_list): the number of search results returned.\n",
    "        title_list: the titles of returned search results in a list.\n",
    "        link_list: the links of returned search results in a list.\n",
    "        snippet_list: the snippets of returned search results in a list.\n",
    "    \"\"\"\n",
    "    \n",
    "    service = build(\"customsearch\", \"v1\", developerKey=api_key)\n",
    "    result = service.cse().list(q=search_term, cx=case_id).execute()\n",
    "    est_total_num = int(result[\"searchInformation\"][\"totalResults\"])\n",
    "    title_list = []\n",
    "    link_list = []\n",
    "    snippet_list = []\n",
    "    if est_total_num == 0:\n",
    "        return len(link_list), title_list, link_list, snippet_list\n",
    "    elif est_total_num <= 10:\n",
    "        for item in result[\"items\"]:\n",
    "            title_list.append(item[\"title\"])\n",
    "            link_list.append(item[\"link\"])\n",
    "            snippet_list.append(item['snippet'])\n",
    "        return len(link_list), title_list, link_list, snippet_list\n",
    "    else:\n",
    "        for item in result[\"items\"]:\n",
    "            title_list.append(item[\"title\"])\n",
    "            link_list.append(item[\"link\"])\n",
    "            snippet_list.append(item['snippet'])\n",
    "        total_page = math.ceil(est_total_num/10)\n",
    "        if total_page > 10:\n",
    "            total_page = 10\n",
    "        for page in range(1, total_page):\n",
    "            start = page * 10 + 1\n",
    "            more_result = service.cse().list(q=search_term, cx=case_id, start=start).execute()\n",
    "            new_total_num = int(more_result[\"searchInformation\"][\"totalResults\"])\n",
    "            if new_total_num == 0:\n",
    "                return len(link_list), title_list, link_list, snippet_list\n",
    "            else:\n",
    "                for item in more_result[\"items\"]:\n",
    "                    title_list.append(item[\"title\"])\n",
    "                    link_list.append(item[\"link\"])\n",
    "                    snippet_list.append(item['snippet'])\n",
    "        return len(link_list), title_list, link_list, snippet_list"
   ]
  },
  {
   "cell_type": "code",
   "execution_count": 8,
   "metadata": {
    "ExecuteTime": {
     "end_time": "2023-11-29T20:12:44.164736Z",
     "start_time": "2023-11-29T20:12:44.161145Z"
    }
   },
   "outputs": [],
   "source": [
    "# define your search keyword\n",
    "keyword = \"pizza\""
   ]
  },
  {
   "cell_type": "code",
   "execution_count": 9,
   "metadata": {
    "ExecuteTime": {
     "end_time": "2023-11-29T20:12:48.570182Z",
     "start_time": "2023-11-29T20:12:48.565883Z"
    }
   },
   "outputs": [],
   "source": [
    "# give your output file a name\n",
    "output_file = \"output_example.csv\""
   ]
  },
  {
   "cell_type": "code",
   "execution_count": 10,
   "metadata": {
    "ExecuteTime": {
     "end_time": "2023-11-29T20:13:18.030829Z",
     "start_time": "2023-11-29T20:13:17.112412Z"
    }
   },
   "outputs": [],
   "source": [
    "# filter out municipalities without websites\n",
    "source = UScityURL[UScityURL.WEBSITE_AVAILABLE==1].reset_index(drop=True)"
   ]
  },
  {
   "cell_type": "code",
   "execution_count": 11,
   "metadata": {
    "ExecuteTime": {
     "end_time": "2023-11-29T20:13:51.357081Z",
     "start_time": "2023-11-29T20:13:30.392028Z"
    },
    "scrolled": true
   },
   "outputs": [],
   "source": [
    "# conduct the search and write into a csv file\n",
    "for i in range(0, 5): # run 5 cities as an example\n",
    "    search_term = keyword + ' site:' + source.WEBSITE_URL.iloc[i]\n",
    "    total, title, link, snippet = search(search_term, api_key, case_id)\n",
    "    csv.writer(open(output_file, \"a\")).writerow([source.GEOID.iloc[i], total, title, link, snippet])\n",
    "    time.sleep(1) # to avoid too many requests error"
   ]
  },
  {
   "cell_type": "code",
   "execution_count": 12,
   "metadata": {
    "ExecuteTime": {
     "end_time": "2023-11-29T20:13:53.584528Z",
     "start_time": "2023-11-29T20:13:53.570967Z"
    },
    "scrolled": true
   },
   "outputs": [],
   "source": [
    "# check the output file\n",
    "output = pd.read_csv(output_file, names=[\"GEOID\",\"total\",\"title\",\"link\",\"snippet\"])"
   ]
  },
  {
   "cell_type": "code",
   "execution_count": 13,
   "metadata": {
    "ExecuteTime": {
     "end_time": "2023-11-29T20:13:54.880217Z",
     "start_time": "2023-11-29T20:13:54.851586Z"
    }
   },
   "outputs": [
    {
     "data": {
      "text/html": [
       "<div>\n",
       "<style scoped>\n",
       "    .dataframe tbody tr th:only-of-type {\n",
       "        vertical-align: middle;\n",
       "    }\n",
       "\n",
       "    .dataframe tbody tr th {\n",
       "        vertical-align: top;\n",
       "    }\n",
       "\n",
       "    .dataframe thead th {\n",
       "        text-align: right;\n",
       "    }\n",
       "</style>\n",
       "<table border=\"1\" class=\"dataframe\">\n",
       "  <thead>\n",
       "    <tr style=\"text-align: right;\">\n",
       "      <th></th>\n",
       "      <th>GEOID</th>\n",
       "      <th>total</th>\n",
       "      <th>title</th>\n",
       "      <th>link</th>\n",
       "      <th>snippet</th>\n",
       "    </tr>\n",
       "  </thead>\n",
       "  <tbody>\n",
       "    <tr>\n",
       "      <th>0</th>\n",
       "      <td>1600000US3651000</td>\n",
       "      <td>73</td>\n",
       "      <td>['As First-Ever Citywide Ranked Choice Voting ...</td>\n",
       "      <td>['https://www.nyc.gov/office-of-the-mayor/news...</td>\n",
       "      <td>[\"As First-Ever Citywide Ranked Choice Voting ...</td>\n",
       "    </tr>\n",
       "    <tr>\n",
       "      <th>1</th>\n",
       "      <td>1600000US0644000</td>\n",
       "      <td>0</td>\n",
       "      <td>[]</td>\n",
       "      <td>[]</td>\n",
       "      <td>[]</td>\n",
       "    </tr>\n",
       "    <tr>\n",
       "      <th>2</th>\n",
       "      <td>1600000US1714000</td>\n",
       "      <td>100</td>\n",
       "      <td>['LICENSE APPEAL COMMISSION CITY OF CHICAGO 20...</td>\n",
       "      <td>['https://www.chicago.gov/content/dam/city/dep...</td>\n",
       "      <td>['Knipper testified 2033 Pizza, Incorporated, ...</td>\n",
       "    </tr>\n",
       "    <tr>\n",
       "      <th>3</th>\n",
       "      <td>1600000US4835000</td>\n",
       "      <td>80</td>\n",
       "      <td>['How to dispose of or recycle Pizza Box (Grea...</td>\n",
       "      <td>['https://www.houstontx.gov/solidwaste/htxcoll...</td>\n",
       "      <td>['Pizza Box (Greasy). Yard Waste Collections i...</td>\n",
       "    </tr>\n",
       "    <tr>\n",
       "      <th>4</th>\n",
       "      <td>1600000US0455000</td>\n",
       "      <td>57</td>\n",
       "      <td>['Restaurant Stormwater Pollution - Phoenix', ...</td>\n",
       "      <td>['https://www.phoenix.gov/waterservicessite/Do...</td>\n",
       "      <td>[\"Pouring liquid fat, cooking oil, grease, or ...</td>\n",
       "    </tr>\n",
       "  </tbody>\n",
       "</table>\n",
       "</div>"
      ],
      "text/plain": [
       "              GEOID  total                                              title  \\\n",
       "0  1600000US3651000     73  ['As First-Ever Citywide Ranked Choice Voting ...   \n",
       "1  1600000US0644000      0                                                 []   \n",
       "2  1600000US1714000    100  ['LICENSE APPEAL COMMISSION CITY OF CHICAGO 20...   \n",
       "3  1600000US4835000     80  ['How to dispose of or recycle Pizza Box (Grea...   \n",
       "4  1600000US0455000     57  ['Restaurant Stormwater Pollution - Phoenix', ...   \n",
       "\n",
       "                                                link  \\\n",
       "0  ['https://www.nyc.gov/office-of-the-mayor/news...   \n",
       "1                                                 []   \n",
       "2  ['https://www.chicago.gov/content/dam/city/dep...   \n",
       "3  ['https://www.houstontx.gov/solidwaste/htxcoll...   \n",
       "4  ['https://www.phoenix.gov/waterservicessite/Do...   \n",
       "\n",
       "                                             snippet  \n",
       "0  [\"As First-Ever Citywide Ranked Choice Voting ...  \n",
       "1                                                 []  \n",
       "2  ['Knipper testified 2033 Pizza, Incorporated, ...  \n",
       "3  ['Pizza Box (Greasy). Yard Waste Collections i...  \n",
       "4  [\"Pouring liquid fat, cooking oil, grease, or ...  "
      ]
     },
     "execution_count": 13,
     "metadata": {},
     "output_type": "execute_result"
    }
   ],
   "source": [
    "output"
   ]
  },
  {
   "cell_type": "markdown",
   "metadata": {},
   "source": [
    "The returned search results pinpoint where a certain topic is discussed. They are suitable for further text-based analysis."
   ]
  },
  {
   "cell_type": "code",
   "execution_count": 15,
   "metadata": {
    "ExecuteTime": {
     "end_time": "2023-11-29T20:16:26.042778Z",
     "start_time": "2023-11-29T20:16:26.034810Z"
    }
   },
   "outputs": [
    {
     "name": "stdout",
     "output_type": "stream",
     "text": [
      "['LICENSE APPEAL COMMISSION CITY OF CHICAGO 2033 Pizza ...', 'PUBLIC PLACE OF AMUSEMENT LICENSE PLAN OF OPERATION ...', \"AGREED PLAN OF OPERATION Licensee: Barraco's Pizza, Inc. d/b ...\", 'CITY OF CHICAGO COMMISSION ON HUMAN RELATIONS IN THE ...', 'Taste of Chicago 2023 – Grant Park Food Vendor Menus', 'City of Chicago COMMISSION ON HUMAN RELATIONS IN THE ...', \"What Can I Recycle? Fact Sheet Don't forget! Flatten cardboard and ...\", \"Mayor Emanuel Welcomes Food Network's Great ... - City of Chicago\", 'DAILY HEARING SCHEDULE', 'Save Time And Skip The Line – Contactless ... - City of Chicago', 'Food Scrap Drop-Off', 'Taste of Chicago Grant Park - City of Chicago', 'MEMORANDUM', '6/14/2012 Mount Greenwood SSA District Plan', 'Untitled', 'Divvy Celebrates Fourth Birthday On Wednesday - City of Chicago', 'Taste Grant Park Map & Schedule 2023', 'Taste of Chicago Grant Park Map 2023 (PDF)', 'Restaurant, Banquet Hall Approved For Former ... - City of Chicago', 'Community Development Grant November 2022 Finalists', 'UNDERWRITING INFORMATION - AIRPORTS (MARCH, 2006)', 'Taste of Chicago - City of Chicago', 'Chicago Voted “#1 Best Big City in the U.S.” For ... - City of Chicago', 'AMENDED PLAN OF OPERATION', 'BUSINESS NAME BUSINESS ADDRESS CITY ST ZIPCODE Tax1 ...', 'WORKSHOP SERIES', '475 Ethics Ordinance List as of April 2015 | City of Chicago', 'CONTACTLESS ORDERING FOR PICK UP OR DELIVERY KICKS ...', 'Mayor Emanuel and Navy Pier Announce the ... - City of Chicago', 'Dine', 'BUSINESS NAME BUSINESS ADDRESS CITY ST ZIPCODE Tax1 ...', 'From: Tunney, Tom Sent: Friday, July 27, 2012 1:35 PM To: Berlin ...', 'Untitled', 'IN THE CIRCUIT COURT OF COOK COUNTY, ILLINOIS COUNTY ...', 'DAILY HEARING SCHEDULE', 'Rules and Regulations', 'Eat Right', '475 Ethics Ordinance List as of February 2008 | City of Chicago', 'SEPTEMBER 2023 | City of Chicago', 'Traffic at Midway International Airport Continues ... - City of Chicago', 'Copy of Mandatory Pre-Bid for the Jackson Park Mobility Project ...', 'AGREED LIQUOR LICENSE PLAN OF OPERATION | City of Chicago', 'Frequently Asked Questions Food Handler Training in Illinois Food ...', 'Eat Right', 'Company Address TIF District Completion Actual Costs Actual Grant ...', 'THIRD-PARTY FOOD DELIVERY SERVICES | City of Chicago', 'City of Chicago Announces 2022 Taste of Chicago - City of Chicago', 'Rough Transcript Thank you so much for being here today. I am truly ...', 'BUSINESS NAME BUSINESS ADDRESS CITY ST ZIPCODE Tax1 ...', \"Chicago's Department of Cultural Affairs and ... - City of Chicago\", \"Chicago's Department of Cultural Affairs and ... - City of Chicago\", 'White Castle #16', \"The Dearborn Restaurant Coming to O'Hare ... - City of Chicago\", 'BUSINESS NAME BUSINESS ADDRESS CITY ST ZIPCODE Tax1 ...', 'Mayor Lightfoot Appoints Glenn Eden To Serve as ... - City of Chicago', 'UPTOWN SQUARE DISTRICT', 'Mayor Lightfoot Announces the Chicago Riverwalk ... - City of Chicago', 'DEPARTMENT OF BUSINESS AFFAIRS AND CONSUMER ...', '475 Ethics Ordinance List as of February 2022 | City of Chicago', 'Our vision builds a community cultural hub that overcomes social ...', '63rd Street & Cottage Grove Retail Analysis', 'Mobile Prepared Food Vendors in Chicago: What you need to know', 'City of Chicago Announces Full Food and Taste ... - City of Chicago', 'THE CHAIRMAN HAS DETERMINED THAT AN IN-PERSON ...', 'Midway International Airport to Open Its First-Ever ... - City of Chicago', 'City of Chicago Announces Goose Island Stage ... - City of Chicago', 'Neighborhood Opportunity Bonus Neighborhood Opportunity Bonus', 'Chicago Cultural Center Announces Free Arts and ... - City of Chicago', 'From: Max Budovitch <Max.Budovitch@cityofchicago.org> Sent ...', 'Restaurant Tax (7525) - City of Chicago', 'Taste Grant Park Map & Schedule 2023', 'GUIDE TO YOUR INITIAL HEALTH INSPECTION', 'Mayor Lightfoot Announces Chicago Riverwalk ... - City of Chicago', 'OFFICE OF LABOR STANDARDS', 'Untitled', 'Food Code Rules', 'Food Safety - City of Chicago', 'Business License Zoning Reference Guide', 'FEE CAPS ON THIRD-PARTY FOOD DELIVERY', 'Free Remote Small Business Expo Provides ... - City of Chicago', '110th City of Chicago Christmas Tree is Coming from Darien, Illinois', 'BOARD RULINGS DIGEST', 'Restaurant and Food Service Inspection Reports - City of Chicago', 'UPCOMING HEARING SCHEDULE - ROOM 805', '1 CITY OF CHICAGO ZONING BOARD OF APPEALS FRIDAY ...', 'Mayor Emanuel and Navy Pier Kick-Off Fifth Third ... - City of Chicago', 'City of Chicago - Department of Business Affairs and Consumer ...', 'MEMORANDUM To: The Honorable Pat Dowell Chairman ...', \"Chicago's Airports Prepared to Welcome 1.49 ... - City of Chicago\", 'UPCOMING HEARING SCHEDULE - ROOM 805', 'City of Chicago - Department of Business Affairs and Consumer ...', 'Untitled', 'https://www.chicago.gov/content/dam/city/depts/eth...', 'IN THE CIRCUIT COURT OF COOK COUNTY, ILLINOIS COUNTY ...', 'MEMORANDUM', 'Eat Right', 'Mayor Emanuel Announces Completion Of 1.25 ... - City of Chicago', 'FINAL ORDER ON LIABILITY AND RELIEF', 'Untitled', 'Untitled']\n"
     ]
    }
   ],
   "source": [
    "# to check out the titles of the returned search results\n",
    "print(output.title.iloc[2])"
   ]
  },
  {
   "cell_type": "code",
   "execution_count": null,
   "metadata": {},
   "outputs": [],
   "source": []
  }
 ],
 "metadata": {
  "kernelspec": {
   "display_name": "Python 3",
   "language": "python",
   "name": "python3"
  },
  "language_info": {
   "codemirror_mode": {
    "name": "ipython",
    "version": 3
   },
   "file_extension": ".py",
   "mimetype": "text/x-python",
   "name": "python",
   "nbconvert_exporter": "python",
   "pygments_lexer": "ipython3",
   "version": "3.8.3"
  },
  "toc": {
   "base_numbering": 1,
   "nav_menu": {},
   "number_sections": false,
   "sideBar": true,
   "skip_h1_title": false,
   "title_cell": "Table of Contents",
   "title_sidebar": "Contents",
   "toc_cell": false,
   "toc_position": {},
   "toc_section_display": true,
   "toc_window_display": false
  },
  "varInspector": {
   "cols": {
    "lenName": 16,
    "lenType": 16,
    "lenVar": 40
   },
   "kernels_config": {
    "python": {
     "delete_cmd_postfix": "",
     "delete_cmd_prefix": "del ",
     "library": "var_list.py",
     "varRefreshCmd": "print(var_dic_list())"
    },
    "r": {
     "delete_cmd_postfix": ") ",
     "delete_cmd_prefix": "rm(",
     "library": "var_list.r",
     "varRefreshCmd": "cat(var_dic_list()) "
    }
   },
   "types_to_exclude": [
    "module",
    "function",
    "builtin_function_or_method",
    "instance",
    "_Feature"
   ],
   "window_display": false
  }
 },
 "nbformat": 4,
 "nbformat_minor": 4
}
