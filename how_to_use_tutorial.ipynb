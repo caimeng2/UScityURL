{
 "cells": [
  {
   "cell_type": "markdown",
   "metadata": {},
   "source": [
    "# <center>How to search keywords on municipal websites</center>"
   ]
  },
  {
   "cell_type": "markdown",
   "metadata": {},
   "source": [
    "**Cite this tutorial as**:\n",
    "\n",
    "Cai, Meng, Huang, Huiqing, & Decaminada, Travis. (2023). Local data at a national scale: Introducing a dataset of official municipal websites in the United States for text-based analytics. Environment and Planning B: Urban Analytics and City Science, 0(0). https://doi.org/10.1177/23998083231190961"
   ]
  },
  {
   "cell_type": "markdown",
   "metadata": {},
   "source": [
    "This tutorial demonstrates how to systematically search self-defined keywords on municipal websites using the dataset UScityURL.csv and [Google Custom Search API](https://developers.google.com/custom-search/v1/introduction), and save the search results as a csv file. Google offers 100 queries per day for free. Daily quotas reset at midnight Pacific Time. Additional queries cost $5 per 1000 queries. Details about Google API pricing could be find [here](https://developers.google.com/custom-search/v1/overview)."
   ]
  },
  {
   "cell_type": "markdown",
   "metadata": {},
   "source": [
    "First, please set up a Google API key and case ID following the [instructions](https://support.google.com/googleapi/answer/6158862?hl=en). And then, in the same folder where you run code, save the API key in a txt file and name it `api_key.txt`. The txt file should only have the key as its content. Similarly, save the case ID in a txt file and name it `case_id.txt`. These are unique identifiers to authenticate and authorize access to the Google Search API. It is important to remember that they should never be shared with others.\n",
    "\n",
    "Next, the Google API client library needs to be installed. The documentation is available [here](https://pypi.org/project/google-api-python-client/). After successful install, import all the libraries."
   ]
  },
  {
   "cell_type": "code",
   "execution_count": 1,
   "metadata": {
    "ExecuteTime": {
     "end_time": "2023-05-30T14:11:02.903592Z",
     "start_time": "2023-05-30T14:11:02.901643Z"
    }
   },
   "outputs": [],
   "source": [
    "## remove the # in the next line to install the Google API client library\n",
    "#!pip install google-api-python-client"
   ]
  },
  {
   "cell_type": "code",
   "execution_count": 2,
   "metadata": {
    "ExecuteTime": {
     "end_time": "2023-05-30T14:11:03.924668Z",
     "start_time": "2023-05-30T14:11:02.905580Z"
    }
   },
   "outputs": [],
   "source": [
    "# import libraries\n",
    "import pandas as pd\n",
    "from googleapiclient.discovery import build\n",
    "import csv\n",
    "import math\n",
    "import time"
   ]
  },
  {
   "cell_type": "code",
   "execution_count": 3,
   "metadata": {
    "ExecuteTime": {
     "end_time": "2023-05-30T14:11:03.928728Z",
     "start_time": "2023-05-30T14:11:03.926023Z"
    }
   },
   "outputs": [],
   "source": [
    "# read in your API key and case ID\n",
    "api_key = open('api_key.txt', 'r').read().strip()\n",
    "case_id = open('case_id.txt', 'r').read().strip()"
   ]
  },
  {
   "cell_type": "markdown",
   "metadata": {},
   "source": [
    "After the above preparations, we are ready for the search."
   ]
  },
  {
   "cell_type": "code",
   "execution_count": 4,
   "metadata": {
    "ExecuteTime": {
     "end_time": "2023-05-30T14:11:03.971491Z",
     "start_time": "2023-05-30T14:11:03.930291Z"
    }
   },
   "outputs": [
    {
     "data": {
      "text/html": [
       "<div>\n",
       "<style scoped>\n",
       "    .dataframe tbody tr th:only-of-type {\n",
       "        vertical-align: middle;\n",
       "    }\n",
       "\n",
       "    .dataframe tbody tr th {\n",
       "        vertical-align: top;\n",
       "    }\n",
       "\n",
       "    .dataframe thead th {\n",
       "        text-align: right;\n",
       "    }\n",
       "</style>\n",
       "<table border=\"1\" class=\"dataframe\">\n",
       "  <thead>\n",
       "    <tr style=\"text-align: right;\">\n",
       "      <th></th>\n",
       "      <th>GEOID</th>\n",
       "      <th>MUNICIPALITY</th>\n",
       "      <th>STATE</th>\n",
       "      <th>WEBSITE_AVAILABLE</th>\n",
       "      <th>WEBSITE_URL</th>\n",
       "    </tr>\n",
       "  </thead>\n",
       "  <tbody>\n",
       "    <tr>\n",
       "      <th>0</th>\n",
       "      <td>1600000US3651000</td>\n",
       "      <td>New York</td>\n",
       "      <td>New York</td>\n",
       "      <td>1</td>\n",
       "      <td>https://www.nyc.gov/</td>\n",
       "    </tr>\n",
       "    <tr>\n",
       "      <th>1</th>\n",
       "      <td>1600000US0644000</td>\n",
       "      <td>Los Angeles</td>\n",
       "      <td>California</td>\n",
       "      <td>1</td>\n",
       "      <td>https://www.lacity.org/</td>\n",
       "    </tr>\n",
       "    <tr>\n",
       "      <th>2</th>\n",
       "      <td>1600000US1714000</td>\n",
       "      <td>Chicago</td>\n",
       "      <td>Illinois</td>\n",
       "      <td>1</td>\n",
       "      <td>https://www.chicago.gov/</td>\n",
       "    </tr>\n",
       "    <tr>\n",
       "      <th>3</th>\n",
       "      <td>1600000US4835000</td>\n",
       "      <td>Houston</td>\n",
       "      <td>Texas</td>\n",
       "      <td>1</td>\n",
       "      <td>http://www.houstontx.gov/</td>\n",
       "    </tr>\n",
       "    <tr>\n",
       "      <th>4</th>\n",
       "      <td>1600000US0455000</td>\n",
       "      <td>Phoenix</td>\n",
       "      <td>Arizona</td>\n",
       "      <td>1</td>\n",
       "      <td>https://www.phoenix.gov/</td>\n",
       "    </tr>\n",
       "  </tbody>\n",
       "</table>\n",
       "</div>"
      ],
      "text/plain": [
       "              GEOID MUNICIPALITY       STATE  WEBSITE_AVAILABLE  \\\n",
       "0  1600000US3651000     New York    New York                  1   \n",
       "1  1600000US0644000  Los Angeles  California                  1   \n",
       "2  1600000US1714000      Chicago    Illinois                  1   \n",
       "3  1600000US4835000      Houston       Texas                  1   \n",
       "4  1600000US0455000      Phoenix     Arizona                  1   \n",
       "\n",
       "                 WEBSITE_URL  \n",
       "0       https://www.nyc.gov/  \n",
       "1    https://www.lacity.org/  \n",
       "2   https://www.chicago.gov/  \n",
       "3  http://www.houstontx.gov/  \n",
       "4   https://www.phoenix.gov/  "
      ]
     },
     "execution_count": 4,
     "metadata": {},
     "output_type": "execute_result"
    }
   ],
   "source": [
    "# load in the dataset and check it out\n",
    "UScityURL = pd.read_csv(\"UScityURL.csv\") # make sure data and notebook in the same folder otherwise change path\n",
    "UScityURL.head()"
   ]
  },
  {
   "cell_type": "markdown",
   "metadata": {},
   "source": [
    "A code book `cookbook.txt` for the dataset is available in the repo. \n",
    "\n",
    "As of the time when the dataset is compiled (September 2022), 13,724 out of 19,518 municipalities (70%) have an official website. All the municipalities without official websites have populations below 6,000."
   ]
  },
  {
   "cell_type": "code",
   "execution_count": 5,
   "metadata": {
    "ExecuteTime": {
     "end_time": "2023-05-30T14:11:03.987727Z",
     "start_time": "2023-05-30T14:11:03.973279Z"
    }
   },
   "outputs": [
    {
     "name": "stdout",
     "output_type": "stream",
     "text": [
      "<class 'pandas.core.frame.DataFrame'>\n",
      "RangeIndex: 19518 entries, 0 to 19517\n",
      "Data columns (total 5 columns):\n",
      " #   Column             Non-Null Count  Dtype \n",
      "---  ------             --------------  ----- \n",
      " 0   GEOID              19518 non-null  object\n",
      " 1   MUNICIPALITY       19518 non-null  object\n",
      " 2   STATE              19518 non-null  object\n",
      " 3   WEBSITE_AVAILABLE  19518 non-null  int64 \n",
      " 4   WEBSITE_URL        13724 non-null  object\n",
      "dtypes: int64(1), object(4)\n",
      "memory usage: 762.5+ KB\n"
     ]
    }
   ],
   "source": [
    "UScityURL.info()"
   ]
  },
  {
   "cell_type": "code",
   "execution_count": 6,
   "metadata": {
    "ExecuteTime": {
     "end_time": "2023-05-30T14:11:03.995488Z",
     "start_time": "2023-05-30T14:11:03.989268Z"
    }
   },
   "outputs": [],
   "source": [
    "# a ready-to-use function for conducting systematic searches\n",
    "def search(search_term, api_key, case_id):\n",
    "    \"\"\"\n",
    "    Use Google Custom Search API to systematically search self-defined keywords.\n",
    "    \n",
    "    Arguments:\n",
    "        search_term: search string. The maximum length is 2048 characters.\n",
    "        api_key: your api key.\n",
    "        case_id: your case id.\n",
    "    Returns:\n",
    "        len(link_list): the number of search results returned.\n",
    "        title_list: the titles of returned search results in a list.\n",
    "        link_list: the links of returned search results in a list.\n",
    "        snippet_list: the snippets of returned search results in a list.\n",
    "    \"\"\"\n",
    "    \n",
    "    service = build(\"customsearch\", \"v1\", developerKey=api_key)\n",
    "    result = service.cse().list(q=search_term, cx=case_id).execute()\n",
    "    est_total_num = int(result[\"searchInformation\"][\"totalResults\"])\n",
    "    title_list = []\n",
    "    link_list = []\n",
    "    snippet_list = []\n",
    "    if est_total_num == 0:\n",
    "        return len(link_list), title_list, link_list, snippet_list\n",
    "    elif est_total_num <= 10:\n",
    "        for item in result[\"items\"]:\n",
    "            title_list.append(item[\"title\"])\n",
    "            link_list.append(item[\"link\"])\n",
    "            snippet_list.append(item['snippet'])\n",
    "        return len(link_list), title_list, link_list, snippet_list\n",
    "    else:\n",
    "        for item in result[\"items\"]:\n",
    "            title_list.append(item[\"title\"])\n",
    "            link_list.append(item[\"link\"])\n",
    "            snippet_list.append(item['snippet'])\n",
    "        total_page = math.ceil(est_total_num/10)\n",
    "        if total_page > 10:\n",
    "            total_page = 10\n",
    "        for page in range(1, total_page):\n",
    "            start = page * 10 + 1\n",
    "            more_result = service.cse().list(q=search_term, cx=case_id, start=start).execute()\n",
    "            new_total_num = int(more_result[\"searchInformation\"][\"totalResults\"])\n",
    "            if new_total_num == 0:\n",
    "                return len(link_list), title_list, link_list, snippet_list\n",
    "            else:\n",
    "                for item in more_result[\"items\"]:\n",
    "                    title_list.append(item[\"title\"])\n",
    "                    link_list.append(item[\"link\"])\n",
    "                    snippet_list.append(item['snippet'])\n",
    "        return len(link_list), title_list, link_list, snippet_list"
   ]
  },
  {
   "cell_type": "code",
   "execution_count": 7,
   "metadata": {
    "ExecuteTime": {
     "end_time": "2023-05-30T14:11:03.997887Z",
     "start_time": "2023-05-30T14:11:03.996411Z"
    }
   },
   "outputs": [],
   "source": [
    "# define your search keyword\n",
    "keyword = \"inequity\""
   ]
  },
  {
   "cell_type": "code",
   "execution_count": 8,
   "metadata": {
    "ExecuteTime": {
     "end_time": "2023-05-30T14:11:04.000455Z",
     "start_time": "2023-05-30T14:11:03.998937Z"
    }
   },
   "outputs": [],
   "source": [
    "# give your output file a name\n",
    "output_file = \"output_example.csv\""
   ]
  },
  {
   "cell_type": "code",
   "execution_count": 9,
   "metadata": {
    "ExecuteTime": {
     "end_time": "2023-05-30T14:11:04.880926Z",
     "start_time": "2023-05-30T14:11:04.001595Z"
    }
   },
   "outputs": [],
   "source": [
    "# filter out municipalities without websites\n",
    "source = UScityURL[UScityURL.WEBSITE_AVAILABLE==1].reset_index(drop=True)"
   ]
  },
  {
   "cell_type": "code",
   "execution_count": 10,
   "metadata": {
    "ExecuteTime": {
     "end_time": "2023-05-30T14:11:23.976802Z",
     "start_time": "2023-05-30T14:11:04.881866Z"
    },
    "scrolled": true
   },
   "outputs": [],
   "source": [
    "# conduct the search and write into a csv file\n",
    "for i in range(0, 5): # run 5 cities as an example\n",
    "    search_term = keyword + ' site:' + source.WEBSITE_URL.iloc[i]\n",
    "    total, title, link, snippet = search(search_term, api_key, case_id)\n",
    "    csv.writer(open(output_file, \"a\")).writerow([source.GEOID.iloc[i], total, title, link, snippet])\n",
    "    time.sleep(1) # to avoid too many requests error"
   ]
  },
  {
   "cell_type": "code",
   "execution_count": 14,
   "metadata": {
    "ExecuteTime": {
     "end_time": "2023-05-30T14:12:59.724059Z",
     "start_time": "2023-05-30T14:12:59.704304Z"
    },
    "scrolled": true
   },
   "outputs": [],
   "source": [
    "# check the output file\n",
    "output = pd.read_csv(output_file, names=[\"GEOID\",\"total\",\"title\",\"link\",\"snippet\"])"
   ]
  },
  {
   "cell_type": "code",
   "execution_count": 15,
   "metadata": {
    "ExecuteTime": {
     "end_time": "2023-05-30T14:13:00.647530Z",
     "start_time": "2023-05-30T14:13:00.625308Z"
    }
   },
   "outputs": [
    {
     "data": {
      "text/html": [
       "<div>\n",
       "<style scoped>\n",
       "    .dataframe tbody tr th:only-of-type {\n",
       "        vertical-align: middle;\n",
       "    }\n",
       "\n",
       "    .dataframe tbody tr th {\n",
       "        vertical-align: top;\n",
       "    }\n",
       "\n",
       "    .dataframe thead th {\n",
       "        text-align: right;\n",
       "    }\n",
       "</style>\n",
       "<table border=\"1\" class=\"dataframe\">\n",
       "  <thead>\n",
       "    <tr style=\"text-align: right;\">\n",
       "      <th></th>\n",
       "      <th>GEOID</th>\n",
       "      <th>total</th>\n",
       "      <th>title</th>\n",
       "      <th>link</th>\n",
       "      <th>snippet</th>\n",
       "    </tr>\n",
       "  </thead>\n",
       "  <tbody>\n",
       "    <tr>\n",
       "      <th>0</th>\n",
       "      <td>1600000US3651000</td>\n",
       "      <td>100</td>\n",
       "      <td>[\"Addressing New York City's Smoking Inequitie...</td>\n",
       "      <td>['https://www.nyc.gov/assets/doh/downloads/pdf...</td>\n",
       "      <td>['Oct 1, 2022 ... These exposures contribute t...</td>\n",
       "    </tr>\n",
       "    <tr>\n",
       "      <th>1</th>\n",
       "      <td>1600000US0644000</td>\n",
       "      <td>5</td>\n",
       "      <td>['L.A. Controller Releases Report, \"Diversity ...</td>\n",
       "      <td>['https://www.lacity.org/highlights/la-control...</td>\n",
       "      <td>['Feb 5, 2021 ... L.A. Controller Ron Galperin...</td>\n",
       "    </tr>\n",
       "    <tr>\n",
       "      <th>2</th>\n",
       "      <td>1600000US1714000</td>\n",
       "      <td>100</td>\n",
       "      <td>['Exploring Root Causes of Health Inequities i...</td>\n",
       "      <td>['https://www.chicago.gov/content/dam/city/dep...</td>\n",
       "      <td>['Jun 19, 2019 ... What underlying social and ...</td>\n",
       "    </tr>\n",
       "    <tr>\n",
       "      <th>3</th>\n",
       "      <td>1600000US4835000</td>\n",
       "      <td>76</td>\n",
       "      <td>['Health Disparities Summary 2019', 'Community...</td>\n",
       "      <td>['https://www.houstontx.gov/health/chs/documen...</td>\n",
       "      <td>['Nov 19, 2019 ... The Houston Health Departme...</td>\n",
       "    </tr>\n",
       "    <tr>\n",
       "      <th>4</th>\n",
       "      <td>1600000US0455000</td>\n",
       "      <td>34</td>\n",
       "      <td>['Heat Equity Policy: Inequities in Extreme He...</td>\n",
       "      <td>['https://www.phoenix.gov/oepsite/Documents/De...</td>\n",
       "      <td>['Oct 19, 2021 ... Heat Equity Policy: Inequit...</td>\n",
       "    </tr>\n",
       "  </tbody>\n",
       "</table>\n",
       "</div>"
      ],
      "text/plain": [
       "              GEOID  total                                              title  \\\n",
       "0  1600000US3651000    100  [\"Addressing New York City's Smoking Inequitie...   \n",
       "1  1600000US0644000      5  ['L.A. Controller Releases Report, \"Diversity ...   \n",
       "2  1600000US1714000    100  ['Exploring Root Causes of Health Inequities i...   \n",
       "3  1600000US4835000     76  ['Health Disparities Summary 2019', 'Community...   \n",
       "4  1600000US0455000     34  ['Heat Equity Policy: Inequities in Extreme He...   \n",
       "\n",
       "                                                link  \\\n",
       "0  ['https://www.nyc.gov/assets/doh/downloads/pdf...   \n",
       "1  ['https://www.lacity.org/highlights/la-control...   \n",
       "2  ['https://www.chicago.gov/content/dam/city/dep...   \n",
       "3  ['https://www.houstontx.gov/health/chs/documen...   \n",
       "4  ['https://www.phoenix.gov/oepsite/Documents/De...   \n",
       "\n",
       "                                             snippet  \n",
       "0  ['Oct 1, 2022 ... These exposures contribute t...  \n",
       "1  ['Feb 5, 2021 ... L.A. Controller Ron Galperin...  \n",
       "2  ['Jun 19, 2019 ... What underlying social and ...  \n",
       "3  ['Nov 19, 2019 ... The Houston Health Departme...  \n",
       "4  ['Oct 19, 2021 ... Heat Equity Policy: Inequit...  "
      ]
     },
     "execution_count": 15,
     "metadata": {},
     "output_type": "execute_result"
    }
   ],
   "source": [
    "output"
   ]
  },
  {
   "cell_type": "markdown",
   "metadata": {},
   "source": [
    "The returned search results pinpoint where a certain topic is discussed. They are suitable for further text-based analysis."
   ]
  },
  {
   "cell_type": "code",
   "execution_count": 17,
   "metadata": {
    "ExecuteTime": {
     "end_time": "2023-05-30T14:14:59.918412Z",
     "start_time": "2023-05-30T14:14:59.911983Z"
    }
   },
   "outputs": [
    {
     "name": "stdout",
     "output_type": "stream",
     "text": [
      "[\"Addressing New York City's Smoking Inequities\", 'Health Department Releases New Data on Smoking Inequities in NYC', 'Mayor Adams Takes Action to Reduce Maternal and Infant Health ...', 'The COVID-19 Pandemic Magnified Inequities and Structural ...', 'Aging in New York Fund - NYC Aging', 'Race to Justice Communications Tips | NYC.gov', 'About - CGE', \"Mayor Adams Commits to Making New York City Future of Women's ...\", 'Language Use Guide', 'Inequities in Experiences of the COVID-19 Pandemic, New York City', 'LinkNYC Link5G Design Proposal', 'Health Disparities', 'Office of Equity Strategies - ACS', 'Nutrition Services - NYC Health', 'Future of Workers Task Force', 'About COVID-19 Data - NYC Health', \"Addressing New York City's Smoking Inequities\", 'TCNY 2020 Neighborhood Health Initiative - NYC Health', 'What We Do - CGE', 'Development of a PrEP Equity Index to Set Local Targets for PrEP ...', 'Race to Justice - NYC Health', '2021 Testimony', 'Health Department Releases Monkeypox Vaccination Demographic ...', \"Mayor Adams Announces Advisory Board to Help Guide City's ...\", 'Updates on COVID-19 Health Inequities and Community ...', 'Edgemere - HPD', 'Information on Smoking, Tobacco and E-cigarette Use for Clinicians ...', \"Convening NYC's First Women's Health Summit - Get Stuff Done\", 'Public Meeting – August 9, 2021', 'NYC Launches Groundbreaking Series of Initiatives Targeting ...', 'Introduction to Domestic Violence and Gender Based Violence ...', 'Virtual Resources', 'Flavored Tobacco and Recreational Nicotine Products - NYC Health', 'Health Department Launches Coalition to Confront Racism in ...', \"Championing Women's Health - Get Stuff Done\", \"Mayor's Office of Media and Entertainment, City University of New ...\", 'NYC Men Teach', 'Disparity Report - CIDI', 'Health and Reproductive Justice - CGE', 'About DOH - NYC Health', '2020-press-releases', 'About DYCD - DYCD', 'Maternal Mortality and Severe Maternal Morbidity Surveillance ...', 'Menstrual Equity Workgroup - CGE', 'Office to Prevent Gun Violence Theory of Change', 'COVID-19 Vaccine Use Every Opportunity Campaign ...', 'streetscapes', 'Remarks of Dave A. Chokshi, MD, MSc, Commissioner, Before the ...', 'RESOLUTION OF THE NYC BOARD OF HEALTH DECLARING ...', 'wellness-projectbuild', 'Coalition to End Racism in Clinical Algorithms (CERCA) - NYC Health', 'Building Healthy Communities', 'Untitled', 'salary-history-law', \"Environmental Justice - NYC Mayor's Office of Climate and ...\", 'NYC Law: Salary History Question Ban | NYC Human Rights', 'Executive Order 26 | City of New York', 'Press Release Archives #593-97 Elimination Of The Cross-bay ...', 'Our Programs - Sustainability', 'Inequities in Awareness of Pre-Exposure Prophylaxis (PrEP) for HIV ...', 'Health Department Releases Major Report Detailing Health of ...', '2022 Health Alert #17: Extreme Heat Event August 4 and 5, 2022 ...', 'YMI - NYC Men Teach', 'COVID-19: Vaccine - NYC Health', \"A Recovery for All of Us: Mayor de Blasio Announces Nation's First ...\", 'Analyzing the Racial Wealth Gap and Implications for Health Equity', \"Adams Administration Holds First Ever Women's Health Summit to ...\", 'Rockaway and Broad Channel', 'Manhattan Borough President Mark Levine Interviewed on NYC ...', 'NYC Emergency Management Releases 2022-2026 Strategic Plan', 'New York City Advisory Commission on Property Tax Reform ...', '2022 Health Alert #14 Extreme Heat Event July 20 and 21, 2022 ...', 'Upcoming Programs - OATH', 'Disparity Report Update 2021', 'Challenges in Obstaining Pay Equity in the Workplace: A Report on ...', 'Manhattan Community District 12: - WASHINGTON HEIGHTS AND ...', 'Adult Smoking Rate in NYC Declines; Reaches Take Care New ...', 'Health Department and Community Partners Release Plan to ...', 'Dr. Torian Easterling Appointed First Deputy Commissioner, Chief ...', 'New York City Releases 2021 Overdose Data Showing ...', 'NYC Coalition to End Racism in Clinical Algorithms Meeting 7', 'East Harlem', 'Flushing and Whitestone', 'women-nyc', 'NYC Unity Project - Generation NYC', 'Faith-Based Initiatives - NYC Health', 'New York City Racial Justice Commission', 'Mayor de Blasio Appoints Azadeh Khalili as First Executive Director ...', 'Board of Health Passes Resolution Declaring Racism a Public ...', 'Interact and Visualize - NYC Health', 'Interact and Visualize - NYC Health', 'FOSTER CARE STRATEGIC BLUEPRINT PROGRESS REPORT FY ...', 'Mayor de Blasio Signs Bill Prohibiting All NYC Employers From ...', 'community-engagement-framework.pdf', 'Preliminary Report - Property Tax Reform', 'The State of Doula Care in NYC 2021', 'NYC Coalition to End Racism in Clinical Algorithms (CERCA ...', 'Good Health, Good Value: NYC Receives $5.5 Million Grant to Make ...', 'Mayor de Blasio Announces Pay Equity Cabinet to Fight Race and ...', 'Mayor de Blasio and Speaker Johnson Celebrate Signing of Waste ...']\n"
     ]
    }
   ],
   "source": [
    "# to check out the titles of the returned search results\n",
    "print(output.title.iloc[0])"
   ]
  }
 ],
 "metadata": {
  "kernelspec": {
   "display_name": "Python 3",
   "language": "python",
   "name": "python3"
  },
  "language_info": {
   "codemirror_mode": {
    "name": "ipython",
    "version": 3
   },
   "file_extension": ".py",
   "mimetype": "text/x-python",
   "name": "python",
   "nbconvert_exporter": "python",
   "pygments_lexer": "ipython3",
   "version": "3.8.3"
  },
  "toc": {
   "base_numbering": 1,
   "nav_menu": {},
   "number_sections": false,
   "sideBar": true,
   "skip_h1_title": false,
   "title_cell": "Table of Contents",
   "title_sidebar": "Contents",
   "toc_cell": false,
   "toc_position": {},
   "toc_section_display": true,
   "toc_window_display": false
  },
  "varInspector": {
   "cols": {
    "lenName": 16,
    "lenType": 16,
    "lenVar": 40
   },
   "kernels_config": {
    "python": {
     "delete_cmd_postfix": "",
     "delete_cmd_prefix": "del ",
     "library": "var_list.py",
     "varRefreshCmd": "print(var_dic_list())"
    },
    "r": {
     "delete_cmd_postfix": ") ",
     "delete_cmd_prefix": "rm(",
     "library": "var_list.r",
     "varRefreshCmd": "cat(var_dic_list()) "
    }
   },
   "types_to_exclude": [
    "module",
    "function",
    "builtin_function_or_method",
    "instance",
    "_Feature"
   ],
   "window_display": false
  }
 },
 "nbformat": 4,
 "nbformat_minor": 4
}
