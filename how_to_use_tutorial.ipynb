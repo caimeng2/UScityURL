{
 "cells": [
  {
   "cell_type": "markdown",
   "metadata": {},
   "source": [
    "# <center>How to search keywords on municipal websites</center>"
   ]
  },
  {
   "cell_type": "markdown",
   "metadata": {},
   "source": [
    "This tutorial demonstrates how to systematically search self-defined keywords on municipal websites using the dataset UScityURL.csv and [Google Custom Search API](https://developers.google.com/custom-search/v1/introduction), and save the search results as a csv file. Google offers 100 queries per day for free. Daily quotas reset at midnight Pacific Time. Additional queries cost $5 per 1000 queries. Details about Google API pricing could be find [here](https://developers.google.com/custom-search/v1/overview)."
   ]
  },
  {
   "cell_type": "markdown",
   "metadata": {},
   "source": [
    "First, please set up a Google API key and case ID following the [instructions](https://support.google.com/googleapi/answer/6158862?hl=en). And then, in the same folder where you run code, save the API key in a txt file and name it `api_key.txt`. The txt file should only have the key as its content. Similarly, save the case ID in a txt file and name it `case_id.txt`. These are unique identifiers to authenticate and authorize access to the Google Search API. It is important to remember that they should never be shared with others.\n",
    "\n",
    "Next, the Google API client library needs to be installed. The documentation is available [here](https://pypi.org/project/google-api-python-client/). After successful install, import all the libraries."
   ]
  },
  {
   "cell_type": "code",
   "execution_count": 1,
   "metadata": {
    "ExecuteTime": {
     "end_time": "2023-02-23T11:44:03.724470Z",
     "start_time": "2023-02-23T11:44:03.722819Z"
    }
   },
   "outputs": [],
   "source": [
    "## remove the # in the next line to install the Google API client library\n",
    "#!pip install google-api-python-client"
   ]
  },
  {
   "cell_type": "code",
   "execution_count": 1,
   "metadata": {
    "ExecuteTime": {
     "end_time": "2023-03-21T10:30:22.219157Z",
     "start_time": "2023-03-21T10:30:21.710386Z"
    }
   },
   "outputs": [],
   "source": [
    "# import libraries\n",
    "import pandas as pd\n",
    "from googleapiclient.discovery import build\n",
    "import csv\n",
    "import math\n",
    "import time"
   ]
  },
  {
   "cell_type": "code",
   "execution_count": 2,
   "metadata": {
    "ExecuteTime": {
     "end_time": "2023-03-21T10:30:23.432381Z",
     "start_time": "2023-03-21T10:30:23.422747Z"
    }
   },
   "outputs": [],
   "source": [
    "# read in your API key and case ID\n",
    "api_key = open('api_key.txt', 'r').read().strip()\n",
    "case_id = open('case_id.txt', 'r').read().strip()"
   ]
  },
  {
   "cell_type": "markdown",
   "metadata": {},
   "source": [
    "After the above preparations, we are ready for the search."
   ]
  },
  {
   "cell_type": "code",
   "execution_count": 3,
   "metadata": {
    "ExecuteTime": {
     "end_time": "2023-03-21T10:30:29.161894Z",
     "start_time": "2023-03-21T10:30:29.106054Z"
    }
   },
   "outputs": [
    {
     "data": {
      "text/html": [
       "<div>\n",
       "<style scoped>\n",
       "    .dataframe tbody tr th:only-of-type {\n",
       "        vertical-align: middle;\n",
       "    }\n",
       "\n",
       "    .dataframe tbody tr th {\n",
       "        vertical-align: top;\n",
       "    }\n",
       "\n",
       "    .dataframe thead th {\n",
       "        text-align: right;\n",
       "    }\n",
       "</style>\n",
       "<table border=\"1\" class=\"dataframe\">\n",
       "  <thead>\n",
       "    <tr style=\"text-align: right;\">\n",
       "      <th></th>\n",
       "      <th>GEOID</th>\n",
       "      <th>MUNICIPALITY</th>\n",
       "      <th>STATE</th>\n",
       "      <th>WEBSITE_AVAILABLE</th>\n",
       "      <th>WEBSITE_URL</th>\n",
       "    </tr>\n",
       "  </thead>\n",
       "  <tbody>\n",
       "    <tr>\n",
       "      <th>0</th>\n",
       "      <td>1600000US3651000</td>\n",
       "      <td>New York</td>\n",
       "      <td>New York</td>\n",
       "      <td>1</td>\n",
       "      <td>https://www.nyc.gov/</td>\n",
       "    </tr>\n",
       "    <tr>\n",
       "      <th>1</th>\n",
       "      <td>1600000US0644000</td>\n",
       "      <td>Los Angeles</td>\n",
       "      <td>California</td>\n",
       "      <td>1</td>\n",
       "      <td>https://www.lacity.org/</td>\n",
       "    </tr>\n",
       "    <tr>\n",
       "      <th>2</th>\n",
       "      <td>1600000US1714000</td>\n",
       "      <td>Chicago</td>\n",
       "      <td>Illinois</td>\n",
       "      <td>1</td>\n",
       "      <td>https://www.chicago.gov/</td>\n",
       "    </tr>\n",
       "    <tr>\n",
       "      <th>3</th>\n",
       "      <td>1600000US4835000</td>\n",
       "      <td>Houston</td>\n",
       "      <td>Texas</td>\n",
       "      <td>1</td>\n",
       "      <td>http://www.houstontx.gov/</td>\n",
       "    </tr>\n",
       "    <tr>\n",
       "      <th>4</th>\n",
       "      <td>1600000US0455000</td>\n",
       "      <td>Phoenix</td>\n",
       "      <td>Arizona</td>\n",
       "      <td>1</td>\n",
       "      <td>https://www.phoenix.gov/</td>\n",
       "    </tr>\n",
       "  </tbody>\n",
       "</table>\n",
       "</div>"
      ],
      "text/plain": [
       "              GEOID MUNICIPALITY       STATE  WEBSITE_AVAILABLE  \\\n",
       "0  1600000US3651000     New York    New York                  1   \n",
       "1  1600000US0644000  Los Angeles  California                  1   \n",
       "2  1600000US1714000      Chicago    Illinois                  1   \n",
       "3  1600000US4835000      Houston       Texas                  1   \n",
       "4  1600000US0455000      Phoenix     Arizona                  1   \n",
       "\n",
       "                 WEBSITE_URL  \n",
       "0       https://www.nyc.gov/  \n",
       "1    https://www.lacity.org/  \n",
       "2   https://www.chicago.gov/  \n",
       "3  http://www.houstontx.gov/  \n",
       "4   https://www.phoenix.gov/  "
      ]
     },
     "execution_count": 3,
     "metadata": {},
     "output_type": "execute_result"
    }
   ],
   "source": [
    "# load in the dataset and check it out\n",
    "UScityURL = pd.read_csv(\"UScityURL.csv\") # make sure in the same folder otherwise change path\n",
    "UScityURL.head()"
   ]
  },
  {
   "cell_type": "markdown",
   "metadata": {},
   "source": [
    "A code book for the dataset is available in the same repo. As of the time when the dataset is compiled (September 2022), 13,724 out of 19,518 municipalities (70%) have an official website. All the municipalities without official websites have populations below 6,000."
   ]
  },
  {
   "cell_type": "code",
   "execution_count": 4,
   "metadata": {
    "ExecuteTime": {
     "end_time": "2023-03-21T10:30:41.885167Z",
     "start_time": "2023-03-21T10:30:41.854843Z"
    }
   },
   "outputs": [
    {
     "name": "stdout",
     "output_type": "stream",
     "text": [
      "<class 'pandas.core.frame.DataFrame'>\n",
      "RangeIndex: 19518 entries, 0 to 19517\n",
      "Data columns (total 5 columns):\n",
      " #   Column             Non-Null Count  Dtype \n",
      "---  ------             --------------  ----- \n",
      " 0   GEOID              19518 non-null  object\n",
      " 1   MUNICIPALITY       19518 non-null  object\n",
      " 2   STATE              19518 non-null  object\n",
      " 3   WEBSITE_AVAILABLE  19518 non-null  int64 \n",
      " 4   WEBSITE_URL        13724 non-null  object\n",
      "dtypes: int64(1), object(4)\n",
      "memory usage: 762.5+ KB\n"
     ]
    }
   ],
   "source": [
    "UScityURL.info()"
   ]
  },
  {
   "cell_type": "code",
   "execution_count": 5,
   "metadata": {
    "ExecuteTime": {
     "end_time": "2023-03-21T10:31:01.135444Z",
     "start_time": "2023-03-21T10:31:00.172992Z"
    }
   },
   "outputs": [],
   "source": [
    "# filter out municipalities without websites\n",
    "source = UScityURL[UScityURL.WEBSITE_AVAILABLE==1].reset_index(drop=True)"
   ]
  },
  {
   "cell_type": "code",
   "execution_count": 6,
   "metadata": {
    "ExecuteTime": {
     "end_time": "2023-03-21T10:31:07.439470Z",
     "start_time": "2023-03-21T10:31:07.419287Z"
    }
   },
   "outputs": [],
   "source": [
    "# a ready-to-use function for conducting systematic searches\n",
    "def search(search_term, api_key, case_id):\n",
    "    \"\"\"\n",
    "    Use Google Custom Search API to systematically search self-defined keywords.\n",
    "    \n",
    "    Arguments:\n",
    "        search_term: search string. The maximum length is 2048 characters.\n",
    "        api_key: your api key.\n",
    "        case_id: your case id.\n",
    "    Returns:\n",
    "        len(link_list): the number of search results returned.\n",
    "        title_list: the titles of returned search results in a list.\n",
    "        link_list: the links of returned search results in a list.\n",
    "        snippet_list: the snippets of returned search results in a list.\n",
    "    \"\"\"\n",
    "    \n",
    "    service = build(\"customsearch\", \"v1\", developerKey=api_key)\n",
    "    result = service.cse().list(q=search_term, cx=case_id).execute()\n",
    "    est_total_num = int(result[\"searchInformation\"][\"totalResults\"])\n",
    "    title_list = []\n",
    "    link_list = []\n",
    "    snippet_list = []\n",
    "    if est_total_num == 0:\n",
    "        return len(link_list), title_list, link_list, snippet_list\n",
    "    elif est_total_num <= 10:\n",
    "        for item in result[\"items\"]:\n",
    "            title_list.append(item[\"title\"])\n",
    "            link_list.append(item[\"link\"])\n",
    "            snippet_list.append(item['snippet'])\n",
    "        return len(link_list), title_list, link_list, snippet_list\n",
    "    else:\n",
    "        for item in result[\"items\"]:\n",
    "            title_list.append(item[\"title\"])\n",
    "            link_list.append(item[\"link\"])\n",
    "            snippet_list.append(item['snippet'])\n",
    "        total_page = math.ceil(est_total_num/10)\n",
    "        if total_page > 10:\n",
    "            total_page = 10\n",
    "        for page in range(1, total_page):\n",
    "            start = page * 10 + 1\n",
    "            more_result = service.cse().list(q=search_term, cx=case_id, start=start).execute()\n",
    "            new_total_num = int(more_result[\"searchInformation\"][\"totalResults\"])\n",
    "            if new_total_num == 0:\n",
    "                return len(link_list), title_list, link_list, snippet_list\n",
    "            else:\n",
    "                for item in more_result[\"items\"]:\n",
    "                    title_list.append(item[\"title\"])\n",
    "                    link_list.append(item[\"link\"])\n",
    "                    snippet_list.append(item['snippet'])\n",
    "        return len(link_list), title_list, link_list, snippet_list"
   ]
  },
  {
   "cell_type": "code",
   "execution_count": 7,
   "metadata": {
    "ExecuteTime": {
     "end_time": "2023-03-21T10:31:11.174418Z",
     "start_time": "2023-03-21T10:31:11.166468Z"
    }
   },
   "outputs": [],
   "source": [
    "# define your search keyword\n",
    "keyword = \"inequity\""
   ]
  },
  {
   "cell_type": "code",
   "execution_count": 8,
   "metadata": {
    "ExecuteTime": {
     "end_time": "2023-03-21T10:31:16.297863Z",
     "start_time": "2023-03-21T10:31:16.290033Z"
    }
   },
   "outputs": [],
   "source": [
    "# give your output file a name\n",
    "output_file = \"output_example.csv\""
   ]
  },
  {
   "cell_type": "code",
   "execution_count": 9,
   "metadata": {
    "ExecuteTime": {
     "end_time": "2023-03-21T10:33:03.662700Z",
     "start_time": "2023-03-21T10:32:43.415496Z"
    },
    "scrolled": true
   },
   "outputs": [],
   "source": [
    "# conduct the search and write into a csv file\n",
    "for i in range(0, 5): # run 5 cities as an example\n",
    "    search_term = keyword + ' site:' + source.WEBSITE_URL.iloc[i]\n",
    "    total, title, link, snippet = search(search_term, api_key, case_id)\n",
    "    csv.writer(open(output_file, \"a\")).writerow([source.GEOID.iloc[i], total, title, link, snippet])\n",
    "    time.sleep(1) # to avoid too many requests error"
   ]
  },
  {
   "cell_type": "code",
   "execution_count": 11,
   "metadata": {
    "ExecuteTime": {
     "end_time": "2023-03-21T10:33:23.095236Z",
     "start_time": "2023-03-21T10:33:23.078395Z"
    },
    "scrolled": true
   },
   "outputs": [],
   "source": [
    "# check the output file\n",
    "output = pd.read_csv(output_file, names=[\"GEOID\",\"total\",\"title\",\"link\",\"snippet\"])"
   ]
  },
  {
   "cell_type": "code",
   "execution_count": 12,
   "metadata": {
    "ExecuteTime": {
     "end_time": "2023-03-21T10:33:23.908455Z",
     "start_time": "2023-03-21T10:33:23.890679Z"
    }
   },
   "outputs": [
    {
     "data": {
      "text/html": [
       "<div>\n",
       "<style scoped>\n",
       "    .dataframe tbody tr th:only-of-type {\n",
       "        vertical-align: middle;\n",
       "    }\n",
       "\n",
       "    .dataframe tbody tr th {\n",
       "        vertical-align: top;\n",
       "    }\n",
       "\n",
       "    .dataframe thead th {\n",
       "        text-align: right;\n",
       "    }\n",
       "</style>\n",
       "<table border=\"1\" class=\"dataframe\">\n",
       "  <thead>\n",
       "    <tr style=\"text-align: right;\">\n",
       "      <th></th>\n",
       "      <th>GEOID</th>\n",
       "      <th>total</th>\n",
       "      <th>title</th>\n",
       "      <th>link</th>\n",
       "      <th>snippet</th>\n",
       "    </tr>\n",
       "  </thead>\n",
       "  <tbody>\n",
       "    <tr>\n",
       "      <th>0</th>\n",
       "      <td>1600000US3651000</td>\n",
       "      <td>100</td>\n",
       "      <td>['Addressing Health Inequities in Care During ...</td>\n",
       "      <td>['https://www.nyc.gov/assets/doh/downloads/pdf...</td>\n",
       "      <td>['Jul 30, 2020 ... The COVID-19 public health ...</td>\n",
       "    </tr>\n",
       "    <tr>\n",
       "      <th>1</th>\n",
       "      <td>1600000US0644000</td>\n",
       "      <td>5</td>\n",
       "      <td>['L.A. Controller Releases Report, \"Diversity ...</td>\n",
       "      <td>['https://www.lacity.org/highlights/la-control...</td>\n",
       "      <td>['Feb 5, 2021 ... L.A. Controller Ron Galperin...</td>\n",
       "    </tr>\n",
       "    <tr>\n",
       "      <th>2</th>\n",
       "      <td>1600000US1714000</td>\n",
       "      <td>100</td>\n",
       "      <td>['Exploring Root Causes of Health Inequities i...</td>\n",
       "      <td>['https://www.chicago.gov/content/dam/city/dep...</td>\n",
       "      <td>['Jun 19, 2019 ... Apply a racial equity lens ...</td>\n",
       "    </tr>\n",
       "    <tr>\n",
       "      <th>3</th>\n",
       "      <td>1600000US4835000</td>\n",
       "      <td>75</td>\n",
       "      <td>['Health Disparities Summary 2019', 'Community...</td>\n",
       "      <td>['https://www.houstontx.gov/health/chs/documen...</td>\n",
       "      <td>['Nov 19, 2019 ... The Houston Health Departme...</td>\n",
       "    </tr>\n",
       "    <tr>\n",
       "      <th>4</th>\n",
       "      <td>1600000US0455000</td>\n",
       "      <td>33</td>\n",
       "      <td>['Heat Equity Policy: Inequities in Extreme He...</td>\n",
       "      <td>['https://www.phoenix.gov/oepsite/Documents/De...</td>\n",
       "      <td>['Oct 19, 2021 ... Heat Equity Policy: Inequit...</td>\n",
       "    </tr>\n",
       "  </tbody>\n",
       "</table>\n",
       "</div>"
      ],
      "text/plain": [
       "              GEOID  total                                              title  \\\n",
       "0  1600000US3651000    100  ['Addressing Health Inequities in Care During ...   \n",
       "1  1600000US0644000      5  ['L.A. Controller Releases Report, \"Diversity ...   \n",
       "2  1600000US1714000    100  ['Exploring Root Causes of Health Inequities i...   \n",
       "3  1600000US4835000     75  ['Health Disparities Summary 2019', 'Community...   \n",
       "4  1600000US0455000     33  ['Heat Equity Policy: Inequities in Extreme He...   \n",
       "\n",
       "                                                link  \\\n",
       "0  ['https://www.nyc.gov/assets/doh/downloads/pdf...   \n",
       "1  ['https://www.lacity.org/highlights/la-control...   \n",
       "2  ['https://www.chicago.gov/content/dam/city/dep...   \n",
       "3  ['https://www.houstontx.gov/health/chs/documen...   \n",
       "4  ['https://www.phoenix.gov/oepsite/Documents/De...   \n",
       "\n",
       "                                             snippet  \n",
       "0  ['Jul 30, 2020 ... The COVID-19 public health ...  \n",
       "1  ['Feb 5, 2021 ... L.A. Controller Ron Galperin...  \n",
       "2  ['Jun 19, 2019 ... Apply a racial equity lens ...  \n",
       "3  ['Nov 19, 2019 ... The Houston Health Departme...  \n",
       "4  ['Oct 19, 2021 ... Heat Equity Policy: Inequit...  "
      ]
     },
     "execution_count": 12,
     "metadata": {},
     "output_type": "execute_result"
    }
   ],
   "source": [
    "output"
   ]
  },
  {
   "cell_type": "markdown",
   "metadata": {},
   "source": [
    "The returned search results pinpoint where a certain topic is discussed. They are suitable for further text-based analysis."
   ]
  },
  {
   "cell_type": "code",
   "execution_count": null,
   "metadata": {},
   "outputs": [],
   "source": []
  }
 ],
 "metadata": {
  "kernelspec": {
   "display_name": "Python 3",
   "language": "python",
   "name": "python3"
  },
  "language_info": {
   "codemirror_mode": {
    "name": "ipython",
    "version": 3
   },
   "file_extension": ".py",
   "mimetype": "text/x-python",
   "name": "python",
   "nbconvert_exporter": "python",
   "pygments_lexer": "ipython3",
   "version": "3.8.3"
  },
  "toc": {
   "base_numbering": 1,
   "nav_menu": {},
   "number_sections": false,
   "sideBar": true,
   "skip_h1_title": false,
   "title_cell": "Table of Contents",
   "title_sidebar": "Contents",
   "toc_cell": false,
   "toc_position": {},
   "toc_section_display": true,
   "toc_window_display": false
  },
  "varInspector": {
   "cols": {
    "lenName": 16,
    "lenType": 16,
    "lenVar": 40
   },
   "kernels_config": {
    "python": {
     "delete_cmd_postfix": "",
     "delete_cmd_prefix": "del ",
     "library": "var_list.py",
     "varRefreshCmd": "print(var_dic_list())"
    },
    "r": {
     "delete_cmd_postfix": ") ",
     "delete_cmd_prefix": "rm(",
     "library": "var_list.r",
     "varRefreshCmd": "cat(var_dic_list()) "
    }
   },
   "types_to_exclude": [
    "module",
    "function",
    "builtin_function_or_method",
    "instance",
    "_Feature"
   ],
   "window_display": false
  }
 },
 "nbformat": 4,
 "nbformat_minor": 4
}
