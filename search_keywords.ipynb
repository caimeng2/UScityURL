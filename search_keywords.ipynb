{
 "cells": [
  {
   "cell_type": "markdown",
   "metadata": {},
   "source": [
    "# Search keywords on municipal websites"
   ]
  },
  {
   "cell_type": "code",
   "execution_count": 16,
   "metadata": {
    "ExecuteTime": {
     "end_time": "2023-02-20T14:36:39.772027Z",
     "start_time": "2023-02-20T14:36:39.764450Z"
    }
   },
   "outputs": [],
   "source": [
    "import pandas as pd\n",
    "from googleapiclient.discovery import build\n",
    "import csv\n",
    "import math\n",
    "import time"
   ]
  },
  {
   "cell_type": "markdown",
   "metadata": {},
   "source": [
    "Custom Search JSON API provides 100 search queries per day for free. If you need more, you may sign up for billing in the API Console. Additional requests cost $5 per 1000 queries, up to 10k queries per day. Daily quotas reset at midnight Pacific Time (PT)."
   ]
  },
  {
   "cell_type": "code",
   "execution_count": 20,
   "metadata": {
    "ExecuteTime": {
     "end_time": "2023-02-20T14:41:09.496437Z",
     "start_time": "2023-02-20T14:41:09.441097Z"
    }
   },
   "outputs": [
    {
     "data": {
      "text/html": [
       "<div>\n",
       "<style scoped>\n",
       "    .dataframe tbody tr th:only-of-type {\n",
       "        vertical-align: middle;\n",
       "    }\n",
       "\n",
       "    .dataframe tbody tr th {\n",
       "        vertical-align: top;\n",
       "    }\n",
       "\n",
       "    .dataframe thead th {\n",
       "        text-align: right;\n",
       "    }\n",
       "</style>\n",
       "<table border=\"1\" class=\"dataframe\">\n",
       "  <thead>\n",
       "    <tr style=\"text-align: right;\">\n",
       "      <th></th>\n",
       "      <th>GISJOIN</th>\n",
       "      <th>city</th>\n",
       "      <th>state</th>\n",
       "      <th>website_available</th>\n",
       "      <th>website_URL</th>\n",
       "    </tr>\n",
       "  </thead>\n",
       "  <tbody>\n",
       "    <tr>\n",
       "      <th>0</th>\n",
       "      <td>G36051000</td>\n",
       "      <td>New York</td>\n",
       "      <td>New York</td>\n",
       "      <td>1</td>\n",
       "      <td>https://www.nyc.gov/</td>\n",
       "    </tr>\n",
       "    <tr>\n",
       "      <th>1</th>\n",
       "      <td>G06044000</td>\n",
       "      <td>Los Angeles</td>\n",
       "      <td>California</td>\n",
       "      <td>1</td>\n",
       "      <td>https://www.lacity.org/</td>\n",
       "    </tr>\n",
       "    <tr>\n",
       "      <th>2</th>\n",
       "      <td>G17014000</td>\n",
       "      <td>Chicago</td>\n",
       "      <td>Illinois</td>\n",
       "      <td>1</td>\n",
       "      <td>https://www.chicago.gov/</td>\n",
       "    </tr>\n",
       "    <tr>\n",
       "      <th>3</th>\n",
       "      <td>G48035000</td>\n",
       "      <td>Houston</td>\n",
       "      <td>Texas</td>\n",
       "      <td>1</td>\n",
       "      <td>http://www.houstontx.gov/</td>\n",
       "    </tr>\n",
       "    <tr>\n",
       "      <th>4</th>\n",
       "      <td>G04055000</td>\n",
       "      <td>Phoenix</td>\n",
       "      <td>Arizona</td>\n",
       "      <td>1</td>\n",
       "      <td>https://www.phoenix.gov/</td>\n",
       "    </tr>\n",
       "  </tbody>\n",
       "</table>\n",
       "</div>"
      ],
      "text/plain": [
       "     GISJOIN         city       state  website_available  \\\n",
       "0  G36051000     New York    New York                  1   \n",
       "1  G06044000  Los Angeles  California                  1   \n",
       "2  G17014000      Chicago    Illinois                  1   \n",
       "3  G48035000      Houston       Texas                  1   \n",
       "4  G04055000      Phoenix     Arizona                  1   \n",
       "\n",
       "                 website_URL  \n",
       "0       https://www.nyc.gov/  \n",
       "1    https://www.lacity.org/  \n",
       "2   https://www.chicago.gov/  \n",
       "3  http://www.houstontx.gov/  \n",
       "4   https://www.phoenix.gov/  "
      ]
     },
     "execution_count": 20,
     "metadata": {},
     "output_type": "execute_result"
    }
   ],
   "source": [
    "UScityURL = pd.read_csv(\"UScityURL.csv\")\n",
    "UScityURL.head()"
   ]
  },
  {
   "cell_type": "code",
   "execution_count": 21,
   "metadata": {
    "ExecuteTime": {
     "end_time": "2023-02-20T14:41:37.356796Z",
     "start_time": "2023-02-20T14:41:37.345219Z"
    }
   },
   "outputs": [],
   "source": [
    "source = UScityURL[UScityURL.website_available==1].reset_index(drop=True)"
   ]
  },
  {
   "cell_type": "code",
   "execution_count": 25,
   "metadata": {
    "ExecuteTime": {
     "end_time": "2023-02-20T15:12:41.874657Z",
     "start_time": "2023-02-20T15:12:41.864176Z"
    }
   },
   "outputs": [],
   "source": [
    "api_key = open('api_key.txt', 'r').read().strip()\n",
    "case_id = open('case_id.txt', 'r').read().strip()"
   ]
  },
  {
   "cell_type": "code",
   "execution_count": 10,
   "metadata": {
    "ExecuteTime": {
     "end_time": "2023-02-20T14:35:17.703541Z",
     "start_time": "2023-02-20T14:35:17.682916Z"
    }
   },
   "outputs": [],
   "source": [
    "def search(search_term, api_key, case_id):\n",
    "    \"\"\"\n",
    "    Use Google Custom Search API to collect search results.\n",
    "    \n",
    "    Args:\n",
    "        search_term: search string. The maximium length is 2048 characters.\n",
    "        api_key: api key.\n",
    "        case_id: case_id.\n",
    "    Returns:\n",
    "        est_total_num: the number of search results estimated by Google. \n",
    "        len(linkl): the number of actual search results.\n",
    "        titlel: the title of each returned search result.\n",
    "        linkl: the link of each returned search result.\n",
    "        snippetl: the snippet of each returned search result.\n",
    "    \"\"\"\n",
    "    \n",
    "    service = build(\"customsearch\", \"v1\", developerKey=api_key)\n",
    "    result = service.cse().list(q=search_term, cx=case_id).execute()\n",
    "    est_total_num = int(result[\"searchInformation\"][\"totalResults\"])\n",
    "    title_list = []\n",
    "    link_list = []\n",
    "    snippet_list = []\n",
    "    if est_total_num == 0:\n",
    "        return len(link_list), title_list, link_list, snippet_list\n",
    "    elif est_total_num <= 10:\n",
    "        for item in result[\"items\"]:\n",
    "            title_list.append(item[\"title\"])\n",
    "            link_list.append(item[\"link\"])\n",
    "            snippet_list.append(item['snippet'])\n",
    "        return len(link_list), title_list, link_list, snippet_list\n",
    "    else:\n",
    "        for item in result[\"items\"]:\n",
    "            title_list.append(item[\"title\"])\n",
    "            link_list.append(item[\"link\"])\n",
    "            snippet_list.append(item['snippet'])\n",
    "        total_page = math.ceil(est_total_num/10)\n",
    "        if total_page > 10:\n",
    "            total_page = 10\n",
    "        for page in range(1, total_page):\n",
    "            start = page * 10 + 1\n",
    "            more_result = service.cse().list(q=search_term, cx=case_id, start=start).execute()\n",
    "            new_total_num = int(more_result[\"searchInformation\"][\"totalResults\"])\n",
    "            if new_total_num == 0:\n",
    "                return len(link_list), title_list, link_list, snippet_list\n",
    "            else:\n",
    "                for item in more_result[\"items\"]:\n",
    "                    title_list.append(item[\"title\"])\n",
    "                    link_list.append(item[\"link\"])\n",
    "                    snippet_list.append(item['snippet'])\n",
    "        return len(link_list), title_list, link_list, snippet_list"
   ]
  },
  {
   "cell_type": "code",
   "execution_count": 9,
   "metadata": {
    "ExecuteTime": {
     "end_time": "2023-02-20T14:35:15.460832Z",
     "start_time": "2023-02-20T14:35:15.452281Z"
    }
   },
   "outputs": [],
   "source": [
    "output_file = \"test.csv\""
   ]
  },
  {
   "cell_type": "code",
   "execution_count": 26,
   "metadata": {
    "ExecuteTime": {
     "end_time": "2023-02-20T15:12:54.515842Z",
     "start_time": "2023-02-20T15:12:51.911552Z"
    },
    "scrolled": true
   },
   "outputs": [],
   "source": [
    "for i in range(3, 4):\n",
    "    search_term = '\"inequity\" site:' + source.website_URL.iloc[i]\n",
    "    total_num, title, link, snippet = search(search_term, api_key, case_id)\n",
    "    csv.writer(open(output_file, \"a\")).writerow([source.GISJOIN.iloc[i], total_num, title, link, snippet])\n",
    "    time.sleep(1)"
   ]
  },
  {
   "cell_type": "code",
   "execution_count": 28,
   "metadata": {
    "ExecuteTime": {
     "end_time": "2023-02-20T15:13:26.160742Z",
     "start_time": "2023-02-20T15:13:26.136923Z"
    },
    "scrolled": true
   },
   "outputs": [
    {
     "data": {
      "text/html": [
       "<div>\n",
       "<style scoped>\n",
       "    .dataframe tbody tr th:only-of-type {\n",
       "        vertical-align: middle;\n",
       "    }\n",
       "\n",
       "    .dataframe tbody tr th {\n",
       "        vertical-align: top;\n",
       "    }\n",
       "\n",
       "    .dataframe thead th {\n",
       "        text-align: right;\n",
       "    }\n",
       "</style>\n",
       "<table border=\"1\" class=\"dataframe\">\n",
       "  <thead>\n",
       "    <tr style=\"text-align: right;\">\n",
       "      <th></th>\n",
       "      <th>GISJOIN</th>\n",
       "      <th>total</th>\n",
       "      <th>title</th>\n",
       "      <th>link</th>\n",
       "      <th>snippet</th>\n",
       "    </tr>\n",
       "  </thead>\n",
       "  <tbody>\n",
       "    <tr>\n",
       "      <th>0</th>\n",
       "      <td>G48035000</td>\n",
       "      <td>27</td>\n",
       "      <td>['Health Disparities Summary 2019', 'Community...</td>\n",
       "      <td>['https://www.houstontx.gov/health/chs/documen...</td>\n",
       "      <td>['To the Residents of Houston/Harris County: T...</td>\n",
       "    </tr>\n",
       "  </tbody>\n",
       "</table>\n",
       "</div>"
      ],
      "text/plain": [
       "     GISJOIN  total                                              title  \\\n",
       "0  G48035000     27  ['Health Disparities Summary 2019', 'Community...   \n",
       "\n",
       "                                                link  \\\n",
       "0  ['https://www.houstontx.gov/health/chs/documen...   \n",
       "\n",
       "                                             snippet  \n",
       "0  ['To the Residents of Houston/Harris County: T...  "
      ]
     },
     "execution_count": 28,
     "metadata": {},
     "output_type": "execute_result"
    }
   ],
   "source": [
    "#check output file\n",
    "df = pd.read_csv(output_file, names=[\"GISJOIN\",\"total\",\"title\",\"link\",\"snippet\"])\n",
    "df"
   ]
  },
  {
   "cell_type": "code",
   "execution_count": null,
   "metadata": {},
   "outputs": [],
   "source": []
  }
 ],
 "metadata": {
  "kernelspec": {
   "display_name": "Python 3",
   "language": "python",
   "name": "python3"
  },
  "language_info": {
   "codemirror_mode": {
    "name": "ipython",
    "version": 3
   },
   "file_extension": ".py",
   "mimetype": "text/x-python",
   "name": "python",
   "nbconvert_exporter": "python",
   "pygments_lexer": "ipython3",
   "version": "3.8.3"
  },
  "toc": {
   "base_numbering": 1,
   "nav_menu": {},
   "number_sections": false,
   "sideBar": true,
   "skip_h1_title": false,
   "title_cell": "Table of Contents",
   "title_sidebar": "Contents",
   "toc_cell": false,
   "toc_position": {},
   "toc_section_display": true,
   "toc_window_display": false
  },
  "varInspector": {
   "cols": {
    "lenName": 16,
    "lenType": 16,
    "lenVar": 40
   },
   "kernels_config": {
    "python": {
     "delete_cmd_postfix": "",
     "delete_cmd_prefix": "del ",
     "library": "var_list.py",
     "varRefreshCmd": "print(var_dic_list())"
    },
    "r": {
     "delete_cmd_postfix": ") ",
     "delete_cmd_prefix": "rm(",
     "library": "var_list.r",
     "varRefreshCmd": "cat(var_dic_list()) "
    }
   },
   "types_to_exclude": [
    "module",
    "function",
    "builtin_function_or_method",
    "instance",
    "_Feature"
   ],
   "window_display": false
  }
 },
 "nbformat": 4,
 "nbformat_minor": 4
}
